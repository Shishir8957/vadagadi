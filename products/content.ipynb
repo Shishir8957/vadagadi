{
  "cells": [
    {
      "cell_type": "code",
      "execution_count": 421,
      "metadata": {
        "id": "gMjgq6fSpGAr"
      },
      "outputs": [],
      "source": [
        "import numpy as np\n",
        "import pandas as pd\n",
        "import difflib\n",
        "import re\n",
        "# import matplotlib.pyplot as plt\n",
        "# import seaborn as sns\n",
        "from sklearn.feature_extraction.text import TfidfVectorizer\n",
        "from sklearn.metrics.pairwise import cosine_similarity \n"
      ]
    },
    {
      "cell_type": "code",
      "execution_count": 422,
      "metadata": {
        "colab": {
          "base_uri": "https://localhost:8080/",
          "height": 919
        },
        "id": "I1YI2HCesy5U",
        "outputId": "d912557a-1af1-4300-bba5-a4b6d7eb1063"
      },
      "outputs": [
        {
          "data": {
            "text/html": [
              "<div>\n",
              "<style scoped>\n",
              "    .dataframe tbody tr th:only-of-type {\n",
              "        vertical-align: middle;\n",
              "    }\n",
              "\n",
              "    .dataframe tbody tr th {\n",
              "        vertical-align: top;\n",
              "    }\n",
              "\n",
              "    .dataframe thead th {\n",
              "        text-align: right;\n",
              "    }\n",
              "</style>\n",
              "<table border=\"1\" class=\"dataframe\">\n",
              "  <thead>\n",
              "    <tr style=\"text-align: right;\">\n",
              "      <th></th>\n",
              "      <th>index</th>\n",
              "      <th>name</th>\n",
              "      <th>Model</th>\n",
              "      <th>Price</th>\n",
              "      <th>Year</th>\n",
              "      <th>Kilometer</th>\n",
              "      <th>Fuel Type</th>\n",
              "      <th>Transmission</th>\n",
              "      <th>Engine</th>\n",
              "      <th>Max Power</th>\n",
              "      <th>Max Torque</th>\n",
              "      <th>Seating Capacity</th>\n",
              "      <th>Fuel Tank Capacity</th>\n",
              "      <th>rating</th>\n",
              "      <th>vehicle_type</th>\n",
              "    </tr>\n",
              "  </thead>\n",
              "  <tbody>\n",
              "    <tr>\n",
              "      <th>0</th>\n",
              "      <td>0</td>\n",
              "      <td>Honda</td>\n",
              "      <td>Amaze 1.2 VX i-VTEC</td>\n",
              "      <td>505000</td>\n",
              "      <td>2017</td>\n",
              "      <td>87150</td>\n",
              "      <td>Petrol</td>\n",
              "      <td>Manual</td>\n",
              "      <td>1198 cc</td>\n",
              "      <td>87 bhp @ 6000 rpm</td>\n",
              "      <td>109 Nm @ 4500 rpm</td>\n",
              "      <td>5</td>\n",
              "      <td>35</td>\n",
              "      <td>4</td>\n",
              "      <td>car</td>\n",
              "    </tr>\n",
              "    <tr>\n",
              "      <th>1</th>\n",
              "      <td>1</td>\n",
              "      <td>Maruti Suzuki</td>\n",
              "      <td>Swift DZire VDI</td>\n",
              "      <td>450000</td>\n",
              "      <td>2014</td>\n",
              "      <td>75000</td>\n",
              "      <td>Diesel</td>\n",
              "      <td>Manual</td>\n",
              "      <td>1248 cc</td>\n",
              "      <td>74 bhp @ 4000 rpm</td>\n",
              "      <td>190 Nm @ 2000 rpm</td>\n",
              "      <td>5</td>\n",
              "      <td>42</td>\n",
              "      <td>4</td>\n",
              "      <td>car</td>\n",
              "    </tr>\n",
              "    <tr>\n",
              "      <th>2</th>\n",
              "      <td>2</td>\n",
              "      <td>Hyundai</td>\n",
              "      <td>i10 Magna 1.2 Kappa2</td>\n",
              "      <td>220000</td>\n",
              "      <td>2011</td>\n",
              "      <td>67000</td>\n",
              "      <td>Petrol</td>\n",
              "      <td>Manual</td>\n",
              "      <td>1197 cc</td>\n",
              "      <td>79 bhp @ 6000 rpm</td>\n",
              "      <td>112.7619 Nm @ 4000 rpm</td>\n",
              "      <td>5</td>\n",
              "      <td>35</td>\n",
              "      <td>5</td>\n",
              "      <td>car</td>\n",
              "    </tr>\n",
              "    <tr>\n",
              "      <th>3</th>\n",
              "      <td>3</td>\n",
              "      <td>Toyota</td>\n",
              "      <td>Glanza G</td>\n",
              "      <td>799000</td>\n",
              "      <td>2019</td>\n",
              "      <td>37500</td>\n",
              "      <td>Petrol</td>\n",
              "      <td>Manual</td>\n",
              "      <td>1197 cc</td>\n",
              "      <td>82 bhp @ 6000 rpm</td>\n",
              "      <td>113 Nm @ 4200 rpm</td>\n",
              "      <td>5</td>\n",
              "      <td>37</td>\n",
              "      <td>3</td>\n",
              "      <td>car</td>\n",
              "    </tr>\n",
              "    <tr>\n",
              "      <th>4</th>\n",
              "      <td>4</td>\n",
              "      <td>Toyota</td>\n",
              "      <td>Innova 2.4 VX 7 STR [2016-2020]</td>\n",
              "      <td>1950000</td>\n",
              "      <td>2018</td>\n",
              "      <td>69000</td>\n",
              "      <td>Diesel</td>\n",
              "      <td>Manual</td>\n",
              "      <td>2393 cc</td>\n",
              "      <td>148 bhp @ 3400 rpm</td>\n",
              "      <td>343 Nm @ 1400 rpm</td>\n",
              "      <td>7</td>\n",
              "      <td>55</td>\n",
              "      <td>3</td>\n",
              "      <td>car</td>\n",
              "    </tr>\n",
              "    <tr>\n",
              "      <th>...</th>\n",
              "      <td>...</td>\n",
              "      <td>...</td>\n",
              "      <td>...</td>\n",
              "      <td>...</td>\n",
              "      <td>...</td>\n",
              "      <td>...</td>\n",
              "      <td>...</td>\n",
              "      <td>...</td>\n",
              "      <td>...</td>\n",
              "      <td>...</td>\n",
              "      <td>...</td>\n",
              "      <td>...</td>\n",
              "      <td>...</td>\n",
              "      <td>...</td>\n",
              "      <td>...</td>\n",
              "    </tr>\n",
              "    <tr>\n",
              "      <th>193</th>\n",
              "      <td>193</td>\n",
              "      <td>Bajaj Pulsar 220S</td>\n",
              "      <td>NaN</td>\n",
              "      <td>2900</td>\n",
              "      <td>2015</td>\n",
              "      <td>45000</td>\n",
              "      <td>Petrol</td>\n",
              "      <td>Manual</td>\n",
              "      <td>250</td>\n",
              "      <td>NaN</td>\n",
              "      <td>NaN</td>\n",
              "      <td>2</td>\n",
              "      <td>13</td>\n",
              "      <td>3</td>\n",
              "      <td>bike</td>\n",
              "    </tr>\n",
              "    <tr>\n",
              "      <th>194</th>\n",
              "      <td>194</td>\n",
              "      <td>Honda Activa 4G</td>\n",
              "      <td>NaN</td>\n",
              "      <td>1800</td>\n",
              "      <td>2018</td>\n",
              "      <td>25000</td>\n",
              "      <td>Petrol</td>\n",
              "      <td>Manual</td>\n",
              "      <td>350</td>\n",
              "      <td>NaN</td>\n",
              "      <td>NaN</td>\n",
              "      <td>2</td>\n",
              "      <td>13</td>\n",
              "      <td>5</td>\n",
              "      <td>bike</td>\n",
              "    </tr>\n",
              "    <tr>\n",
              "      <th>195</th>\n",
              "      <td>195</td>\n",
              "      <td>Yamaha FZ25</td>\n",
              "      <td>NaN</td>\n",
              "      <td>1800</td>\n",
              "      <td>2019</td>\n",
              "      <td>2500</td>\n",
              "      <td>Petrol</td>\n",
              "      <td>Manual</td>\n",
              "      <td>350</td>\n",
              "      <td>NaN</td>\n",
              "      <td>NaN</td>\n",
              "      <td>2</td>\n",
              "      <td>12</td>\n",
              "      <td>4</td>\n",
              "      <td>bike</td>\n",
              "    </tr>\n",
              "    <tr>\n",
              "      <th>196</th>\n",
              "      <td>196</td>\n",
              "      <td>Bajaj Pulsar 150</td>\n",
              "      <td>NaN</td>\n",
              "      <td>1400</td>\n",
              "      <td>2015</td>\n",
              "      <td>22770</td>\n",
              "      <td>Petrol</td>\n",
              "      <td>Manual</td>\n",
              "      <td>250</td>\n",
              "      <td>NaN</td>\n",
              "      <td>NaN</td>\n",
              "      <td>2</td>\n",
              "      <td>12</td>\n",
              "      <td>5</td>\n",
              "      <td>bike</td>\n",
              "    </tr>\n",
              "    <tr>\n",
              "      <th>197</th>\n",
              "      <td>197</td>\n",
              "      <td>Hero Splendor Plus</td>\n",
              "      <td>NaN</td>\n",
              "      <td>2200</td>\n",
              "      <td>2015</td>\n",
              "      <td>30000</td>\n",
              "      <td>Petrol</td>\n",
              "      <td>Manual</td>\n",
              "      <td>250</td>\n",
              "      <td>NaN</td>\n",
              "      <td>NaN</td>\n",
              "      <td>2</td>\n",
              "      <td>13</td>\n",
              "      <td>4</td>\n",
              "      <td>bike</td>\n",
              "    </tr>\n",
              "  </tbody>\n",
              "</table>\n",
              "<p>198 rows × 15 columns</p>\n",
              "</div>"
            ],
            "text/plain": [
              "     index                name                            Model    Price  \\\n",
              "0        0               Honda              Amaze 1.2 VX i-VTEC   505000   \n",
              "1        1       Maruti Suzuki                  Swift DZire VDI   450000   \n",
              "2        2             Hyundai             i10 Magna 1.2 Kappa2   220000   \n",
              "3        3              Toyota                         Glanza G   799000   \n",
              "4        4              Toyota  Innova 2.4 VX 7 STR [2016-2020]  1950000   \n",
              "..     ...                 ...                              ...      ...   \n",
              "193    193   Bajaj Pulsar 220S                              NaN     2900   \n",
              "194    194     Honda Activa 4G                              NaN     1800   \n",
              "195    195         Yamaha FZ25                              NaN     1800   \n",
              "196    196    Bajaj Pulsar 150                              NaN     1400   \n",
              "197    197  Hero Splendor Plus                              NaN     2200   \n",
              "\n",
              "     Year  Kilometer Fuel Type Transmission   Engine           Max Power  \\\n",
              "0    2017      87150    Petrol       Manual  1198 cc   87 bhp @ 6000 rpm   \n",
              "1    2014      75000    Diesel       Manual  1248 cc   74 bhp @ 4000 rpm   \n",
              "2    2011      67000    Petrol       Manual  1197 cc   79 bhp @ 6000 rpm   \n",
              "3    2019      37500    Petrol       Manual  1197 cc   82 bhp @ 6000 rpm   \n",
              "4    2018      69000    Diesel       Manual  2393 cc  148 bhp @ 3400 rpm   \n",
              "..    ...        ...       ...          ...      ...                 ...   \n",
              "193  2015      45000    Petrol       Manual      250                 NaN   \n",
              "194  2018      25000    Petrol       Manual      350                 NaN   \n",
              "195  2019       2500    Petrol       Manual      350                 NaN   \n",
              "196  2015      22770    Petrol       Manual      250                 NaN   \n",
              "197  2015      30000    Petrol       Manual      250                 NaN   \n",
              "\n",
              "                 Max Torque  Seating Capacity  Fuel Tank Capacity  rating  \\\n",
              "0         109 Nm @ 4500 rpm                 5                  35       4   \n",
              "1         190 Nm @ 2000 rpm                 5                  42       4   \n",
              "2    112.7619 Nm @ 4000 rpm                 5                  35       5   \n",
              "3         113 Nm @ 4200 rpm                 5                  37       3   \n",
              "4         343 Nm @ 1400 rpm                 7                  55       3   \n",
              "..                      ...               ...                 ...     ...   \n",
              "193                     NaN                 2                  13       3   \n",
              "194                     NaN                 2                  13       5   \n",
              "195                     NaN                 2                  12       4   \n",
              "196                     NaN                 2                  12       5   \n",
              "197                     NaN                 2                  13       4   \n",
              "\n",
              "    vehicle_type  \n",
              "0            car  \n",
              "1            car  \n",
              "2            car  \n",
              "3            car  \n",
              "4            car  \n",
              "..           ...  \n",
              "193         bike  \n",
              "194         bike  \n",
              "195         bike  \n",
              "196         bike  \n",
              "197         bike  \n",
              "\n",
              "[198 rows x 15 columns]"
            ]
          },
          "execution_count": 422,
          "metadata": {},
          "output_type": "execute_result"
        }
      ],
      "source": [
        "bike_data=pd.read_csv(\"vehiclesdata.csv\")\n",
        "bike_data\n",
        "\n"
      ]
    },
    {
      "cell_type": "code",
      "execution_count": 423,
      "metadata": {
        "id": "Ut-7jMlh6ZTy"
      },
      "outputs": [],
      "source": [
        "#fig,ax=plt.subplots(figsize=(8,8))\n",
        "#sns.distplot(bike_data.ex_showroom_price)\n",
        "def clean_name(name):\n",
        "   return re.sub(\"[^a-zA-Z0-9]\",\"\",name)\n",
        "   return name\n"
      ]
    },
    {
      "cell_type": "code",
      "execution_count": null,
      "metadata": {
        "id": "iDRh4bfD4Cmo"
      },
      "outputs": [],
      "source": []
    },
    {
      "cell_type": "code",
      "execution_count": 424,
      "metadata": {
        "id": "vSjZUycK8_cd"
      },
      "outputs": [],
      "source": [
        "# bike_data[\"clean_name\"] = bike_data[\"name\"].apply(clean_name)"
      ]
    },
    {
      "cell_type": "code",
      "execution_count": 425,
      "metadata": {
        "colab": {
          "base_uri": "https://localhost:8080/",
          "height": 849
        },
        "id": "W4cR7O_M_n86",
        "outputId": "58dc5673-6837-4f9b-b235-053fcf29dbf9"
      },
      "outputs": [
        {
          "data": {
            "text/html": [
              "<div>\n",
              "<style scoped>\n",
              "    .dataframe tbody tr th:only-of-type {\n",
              "        vertical-align: middle;\n",
              "    }\n",
              "\n",
              "    .dataframe tbody tr th {\n",
              "        vertical-align: top;\n",
              "    }\n",
              "\n",
              "    .dataframe thead th {\n",
              "        text-align: right;\n",
              "    }\n",
              "</style>\n",
              "<table border=\"1\" class=\"dataframe\">\n",
              "  <thead>\n",
              "    <tr style=\"text-align: right;\">\n",
              "      <th></th>\n",
              "      <th>index</th>\n",
              "      <th>name</th>\n",
              "      <th>Model</th>\n",
              "      <th>Price</th>\n",
              "      <th>Year</th>\n",
              "      <th>Kilometer</th>\n",
              "      <th>Fuel Type</th>\n",
              "      <th>Transmission</th>\n",
              "      <th>Engine</th>\n",
              "      <th>Max Power</th>\n",
              "      <th>Max Torque</th>\n",
              "      <th>Seating Capacity</th>\n",
              "      <th>Fuel Tank Capacity</th>\n",
              "      <th>rating</th>\n",
              "      <th>vehicle_type</th>\n",
              "    </tr>\n",
              "  </thead>\n",
              "  <tbody>\n",
              "    <tr>\n",
              "      <th>0</th>\n",
              "      <td>0</td>\n",
              "      <td>Honda</td>\n",
              "      <td>Amaze 1.2 VX i-VTEC</td>\n",
              "      <td>505000</td>\n",
              "      <td>2017</td>\n",
              "      <td>87150</td>\n",
              "      <td>Petrol</td>\n",
              "      <td>Manual</td>\n",
              "      <td>1198 cc</td>\n",
              "      <td>87 bhp @ 6000 rpm</td>\n",
              "      <td>109 Nm @ 4500 rpm</td>\n",
              "      <td>5</td>\n",
              "      <td>35</td>\n",
              "      <td>4</td>\n",
              "      <td>car</td>\n",
              "    </tr>\n",
              "    <tr>\n",
              "      <th>1</th>\n",
              "      <td>1</td>\n",
              "      <td>Maruti Suzuki</td>\n",
              "      <td>Swift DZire VDI</td>\n",
              "      <td>450000</td>\n",
              "      <td>2014</td>\n",
              "      <td>75000</td>\n",
              "      <td>Diesel</td>\n",
              "      <td>Manual</td>\n",
              "      <td>1248 cc</td>\n",
              "      <td>74 bhp @ 4000 rpm</td>\n",
              "      <td>190 Nm @ 2000 rpm</td>\n",
              "      <td>5</td>\n",
              "      <td>42</td>\n",
              "      <td>4</td>\n",
              "      <td>car</td>\n",
              "    </tr>\n",
              "    <tr>\n",
              "      <th>2</th>\n",
              "      <td>2</td>\n",
              "      <td>Hyundai</td>\n",
              "      <td>i10 Magna 1.2 Kappa2</td>\n",
              "      <td>220000</td>\n",
              "      <td>2011</td>\n",
              "      <td>67000</td>\n",
              "      <td>Petrol</td>\n",
              "      <td>Manual</td>\n",
              "      <td>1197 cc</td>\n",
              "      <td>79 bhp @ 6000 rpm</td>\n",
              "      <td>112.7619 Nm @ 4000 rpm</td>\n",
              "      <td>5</td>\n",
              "      <td>35</td>\n",
              "      <td>5</td>\n",
              "      <td>car</td>\n",
              "    </tr>\n",
              "    <tr>\n",
              "      <th>3</th>\n",
              "      <td>3</td>\n",
              "      <td>Toyota</td>\n",
              "      <td>Glanza G</td>\n",
              "      <td>799000</td>\n",
              "      <td>2019</td>\n",
              "      <td>37500</td>\n",
              "      <td>Petrol</td>\n",
              "      <td>Manual</td>\n",
              "      <td>1197 cc</td>\n",
              "      <td>82 bhp @ 6000 rpm</td>\n",
              "      <td>113 Nm @ 4200 rpm</td>\n",
              "      <td>5</td>\n",
              "      <td>37</td>\n",
              "      <td>3</td>\n",
              "      <td>car</td>\n",
              "    </tr>\n",
              "    <tr>\n",
              "      <th>4</th>\n",
              "      <td>4</td>\n",
              "      <td>Toyota</td>\n",
              "      <td>Innova 2.4 VX 7 STR [2016-2020]</td>\n",
              "      <td>1950000</td>\n",
              "      <td>2018</td>\n",
              "      <td>69000</td>\n",
              "      <td>Diesel</td>\n",
              "      <td>Manual</td>\n",
              "      <td>2393 cc</td>\n",
              "      <td>148 bhp @ 3400 rpm</td>\n",
              "      <td>343 Nm @ 1400 rpm</td>\n",
              "      <td>7</td>\n",
              "      <td>55</td>\n",
              "      <td>3</td>\n",
              "      <td>car</td>\n",
              "    </tr>\n",
              "    <tr>\n",
              "      <th>...</th>\n",
              "      <td>...</td>\n",
              "      <td>...</td>\n",
              "      <td>...</td>\n",
              "      <td>...</td>\n",
              "      <td>...</td>\n",
              "      <td>...</td>\n",
              "      <td>...</td>\n",
              "      <td>...</td>\n",
              "      <td>...</td>\n",
              "      <td>...</td>\n",
              "      <td>...</td>\n",
              "      <td>...</td>\n",
              "      <td>...</td>\n",
              "      <td>...</td>\n",
              "      <td>...</td>\n",
              "    </tr>\n",
              "    <tr>\n",
              "      <th>193</th>\n",
              "      <td>193</td>\n",
              "      <td>Bajaj Pulsar 220S</td>\n",
              "      <td>NaN</td>\n",
              "      <td>2900</td>\n",
              "      <td>2015</td>\n",
              "      <td>45000</td>\n",
              "      <td>Petrol</td>\n",
              "      <td>Manual</td>\n",
              "      <td>250</td>\n",
              "      <td>NaN</td>\n",
              "      <td>NaN</td>\n",
              "      <td>2</td>\n",
              "      <td>13</td>\n",
              "      <td>3</td>\n",
              "      <td>bike</td>\n",
              "    </tr>\n",
              "    <tr>\n",
              "      <th>194</th>\n",
              "      <td>194</td>\n",
              "      <td>Honda Activa 4G</td>\n",
              "      <td>NaN</td>\n",
              "      <td>1800</td>\n",
              "      <td>2018</td>\n",
              "      <td>25000</td>\n",
              "      <td>Petrol</td>\n",
              "      <td>Manual</td>\n",
              "      <td>350</td>\n",
              "      <td>NaN</td>\n",
              "      <td>NaN</td>\n",
              "      <td>2</td>\n",
              "      <td>13</td>\n",
              "      <td>5</td>\n",
              "      <td>bike</td>\n",
              "    </tr>\n",
              "    <tr>\n",
              "      <th>195</th>\n",
              "      <td>195</td>\n",
              "      <td>Yamaha FZ25</td>\n",
              "      <td>NaN</td>\n",
              "      <td>1800</td>\n",
              "      <td>2019</td>\n",
              "      <td>2500</td>\n",
              "      <td>Petrol</td>\n",
              "      <td>Manual</td>\n",
              "      <td>350</td>\n",
              "      <td>NaN</td>\n",
              "      <td>NaN</td>\n",
              "      <td>2</td>\n",
              "      <td>12</td>\n",
              "      <td>4</td>\n",
              "      <td>bike</td>\n",
              "    </tr>\n",
              "    <tr>\n",
              "      <th>196</th>\n",
              "      <td>196</td>\n",
              "      <td>Bajaj Pulsar 150</td>\n",
              "      <td>NaN</td>\n",
              "      <td>1400</td>\n",
              "      <td>2015</td>\n",
              "      <td>22770</td>\n",
              "      <td>Petrol</td>\n",
              "      <td>Manual</td>\n",
              "      <td>250</td>\n",
              "      <td>NaN</td>\n",
              "      <td>NaN</td>\n",
              "      <td>2</td>\n",
              "      <td>12</td>\n",
              "      <td>5</td>\n",
              "      <td>bike</td>\n",
              "    </tr>\n",
              "    <tr>\n",
              "      <th>197</th>\n",
              "      <td>197</td>\n",
              "      <td>Hero Splendor Plus</td>\n",
              "      <td>NaN</td>\n",
              "      <td>2200</td>\n",
              "      <td>2015</td>\n",
              "      <td>30000</td>\n",
              "      <td>Petrol</td>\n",
              "      <td>Manual</td>\n",
              "      <td>250</td>\n",
              "      <td>NaN</td>\n",
              "      <td>NaN</td>\n",
              "      <td>2</td>\n",
              "      <td>13</td>\n",
              "      <td>4</td>\n",
              "      <td>bike</td>\n",
              "    </tr>\n",
              "  </tbody>\n",
              "</table>\n",
              "<p>198 rows × 15 columns</p>\n",
              "</div>"
            ],
            "text/plain": [
              "     index                name                            Model    Price  \\\n",
              "0        0               Honda              Amaze 1.2 VX i-VTEC   505000   \n",
              "1        1       Maruti Suzuki                  Swift DZire VDI   450000   \n",
              "2        2             Hyundai             i10 Magna 1.2 Kappa2   220000   \n",
              "3        3              Toyota                         Glanza G   799000   \n",
              "4        4              Toyota  Innova 2.4 VX 7 STR [2016-2020]  1950000   \n",
              "..     ...                 ...                              ...      ...   \n",
              "193    193   Bajaj Pulsar 220S                              NaN     2900   \n",
              "194    194     Honda Activa 4G                              NaN     1800   \n",
              "195    195         Yamaha FZ25                              NaN     1800   \n",
              "196    196    Bajaj Pulsar 150                              NaN     1400   \n",
              "197    197  Hero Splendor Plus                              NaN     2200   \n",
              "\n",
              "     Year  Kilometer Fuel Type Transmission   Engine           Max Power  \\\n",
              "0    2017      87150    Petrol       Manual  1198 cc   87 bhp @ 6000 rpm   \n",
              "1    2014      75000    Diesel       Manual  1248 cc   74 bhp @ 4000 rpm   \n",
              "2    2011      67000    Petrol       Manual  1197 cc   79 bhp @ 6000 rpm   \n",
              "3    2019      37500    Petrol       Manual  1197 cc   82 bhp @ 6000 rpm   \n",
              "4    2018      69000    Diesel       Manual  2393 cc  148 bhp @ 3400 rpm   \n",
              "..    ...        ...       ...          ...      ...                 ...   \n",
              "193  2015      45000    Petrol       Manual      250                 NaN   \n",
              "194  2018      25000    Petrol       Manual      350                 NaN   \n",
              "195  2019       2500    Petrol       Manual      350                 NaN   \n",
              "196  2015      22770    Petrol       Manual      250                 NaN   \n",
              "197  2015      30000    Petrol       Manual      250                 NaN   \n",
              "\n",
              "                 Max Torque  Seating Capacity  Fuel Tank Capacity  rating  \\\n",
              "0         109 Nm @ 4500 rpm                 5                  35       4   \n",
              "1         190 Nm @ 2000 rpm                 5                  42       4   \n",
              "2    112.7619 Nm @ 4000 rpm                 5                  35       5   \n",
              "3         113 Nm @ 4200 rpm                 5                  37       3   \n",
              "4         343 Nm @ 1400 rpm                 7                  55       3   \n",
              "..                      ...               ...                 ...     ...   \n",
              "193                     NaN                 2                  13       3   \n",
              "194                     NaN                 2                  13       5   \n",
              "195                     NaN                 2                  12       4   \n",
              "196                     NaN                 2                  12       5   \n",
              "197                     NaN                 2                  13       4   \n",
              "\n",
              "    vehicle_type  \n",
              "0            car  \n",
              "1            car  \n",
              "2            car  \n",
              "3            car  \n",
              "4            car  \n",
              "..           ...  \n",
              "193         bike  \n",
              "194         bike  \n",
              "195         bike  \n",
              "196         bike  \n",
              "197         bike  \n",
              "\n",
              "[198 rows x 15 columns]"
            ]
          },
          "execution_count": 425,
          "metadata": {},
          "output_type": "execute_result"
        }
      ],
      "source": [
        "bike_data\n"
      ]
    },
    {
      "cell_type": "code",
      "execution_count": 426,
      "metadata": {
        "colab": {
          "base_uri": "https://localhost:8080/"
        },
        "id": "3WVfjDbzVW3V",
        "outputId": "65011b6f-d7d4-41ac-921f-8acaae88aa45"
      },
      "outputs": [
        {
          "data": {
            "text/plain": [
              "index                  0\n",
              "name                   0\n",
              "Model                 99\n",
              "Price                  0\n",
              "Year                   0\n",
              "Kilometer              0\n",
              "Fuel Type              0\n",
              "Transmission           0\n",
              "Engine                 0\n",
              "Max Power              0\n",
              "Max Torque             0\n",
              "Seating Capacity       0\n",
              "Fuel Tank Capacity     0\n",
              "rating                 0\n",
              "vehicle_type           0\n",
              "dtype: int64"
            ]
          },
          "execution_count": 426,
          "metadata": {},
          "output_type": "execute_result"
        }
      ],
      "source": [
        "bike_data['Max Power'].fillna(bike_data['Max Power'].median,inplace=True)\n",
        "bike_data['Max Torque'].fillna(bike_data['Max Torque'].median,inplace=True)\n",
        "bike_data.isnull().sum()\n"
      ]
    },
    {
      "cell_type": "code",
      "execution_count": 427,
      "metadata": {
        "colab": {
          "base_uri": "https://localhost:8080/"
        },
        "id": "e8gpeMJ0AK3b",
        "outputId": "df3efeae-42dc-4e05-9f09-ca917ff9b522"
      },
      "outputs": [
        {
          "data": {
            "text/plain": [
              "0"
            ]
          },
          "execution_count": 427,
          "metadata": {},
          "output_type": "execute_result"
        }
      ],
      "source": [
        "bike_data.duplicated().sum()"
      ]
    },
    {
      "cell_type": "code",
      "execution_count": 428,
      "metadata": {
        "colab": {
          "base_uri": "https://localhost:8080/"
        },
        "id": "wlFm63bZV4rR",
        "outputId": "8d1f62aa-a067-434f-9bce-1cc3b1860652"
      },
      "outputs": [
        {
          "name": "stdout",
          "output_type": "stream",
          "text": [
            "['Price', 'rating', 'name', 'Kilometer', 'vehicle_type']\n"
          ]
        }
      ],
      "source": [
        "selected_features = ['Price','rating','name','Kilometer','vehicle_type']\n",
        "print(selected_features)"
      ]
    },
    {
      "cell_type": "code",
      "execution_count": 429,
      "metadata": {
        "id": "n0sYJUV3lDa3"
      },
      "outputs": [],
      "source": [
        "for feature in selected_features:\n",
        "  bike_data[feature] = bike_data[feature].fillna('')"
      ]
    },
    {
      "cell_type": "code",
      "execution_count": 430,
      "metadata": {
        "id": "uHJpsRPkopBz"
      },
      "outputs": [],
      "source": [
        "combined_features=str(bike_data['Price'])+str(bike_data['rating'])+bike_data['name']+bike_data['vehicle_type']+str(bike_data['Kilometer'])"
      ]
    },
    {
      "cell_type": "code",
      "execution_count": 431,
      "metadata": {
        "colab": {
          "base_uri": "https://localhost:8080/"
        },
        "id": "2TKYnrTvWI0y",
        "outputId": "0d10cf97-9ceb-49c2-c81b-392c1e587429"
      },
      "outputs": [
        {
          "name": "stdout",
          "output_type": "stream",
          "text": [
            "0      0       505000\\n1       450000\\n2       220000...\n",
            "1      0       505000\\n1       450000\\n2       220000...\n",
            "2      0       505000\\n1       450000\\n2       220000...\n",
            "3      0       505000\\n1       450000\\n2       220000...\n",
            "4      0       505000\\n1       450000\\n2       220000...\n",
            "                             ...                        \n",
            "193    0       505000\\n1       450000\\n2       220000...\n",
            "194    0       505000\\n1       450000\\n2       220000...\n",
            "195    0       505000\\n1       450000\\n2       220000...\n",
            "196    0       505000\\n1       450000\\n2       220000...\n",
            "197    0       505000\\n1       450000\\n2       220000...\n",
            "Length: 198, dtype: object\n"
          ]
        }
      ],
      "source": [
        "print(combined_features)"
      ]
    },
    {
      "cell_type": "code",
      "execution_count": 432,
      "metadata": {
        "id": "D5-MJ3LTlXFm"
      },
      "outputs": [],
      "source": [
        "vectorizer = TfidfVectorizer(ngram_range=(1,2))"
      ]
    },
    {
      "cell_type": "code",
      "execution_count": 433,
      "metadata": {
        "id": "6UcZ9ZCS470G"
      },
      "outputs": [],
      "source": [
        "fecture_vectors = vectorizer.fit_transform(combined_features)"
      ]
    },
    {
      "cell_type": "code",
      "execution_count": 434,
      "metadata": {
        "colab": {
          "base_uri": "https://localhost:8080/"
        },
        "id": "gIcz-4kr48q0",
        "outputId": "0b7f0b9c-ebfc-4805-db26-02206955c212"
      },
      "outputs": [
        {
          "name": "stdout",
          "output_type": "stream",
          "text": [
            "  (0, 192)\t0.06811669125730968\n",
            "  (0, 361)\t0.06811669125730968\n",
            "  (0, 369)\t0.06811669125730968\n",
            "  (0, 99)\t0.06811669125730968\n",
            "  (0, 46)\t0.06811669125730968\n",
            "  (0, 89)\t0.06811669125730968\n",
            "  (0, 43)\t0.06811669125730968\n",
            "  (0, 91)\t0.06811669125730968\n",
            "  (0, 37)\t0.06811669125730968\n",
            "  (0, 93)\t0.06811669125730968\n",
            "  (0, 33)\t0.06811669125730968\n",
            "  (0, 117)\t0.06811669125730968\n",
            "  (0, 29)\t0.06811669125730968\n",
            "  (0, 131)\t0.06811669125730968\n",
            "  (0, 107)\t0.06811669125730968\n",
            "  (0, 129)\t0.06811669125730968\n",
            "  (0, 133)\t0.06811669125730968\n",
            "  (0, 137)\t0.06811669125730968\n",
            "  (0, 304)\t0.26534240976932666\n",
            "  (0, 200)\t0.26534240976932666\n",
            "  (0, 403)\t0.06811669125730968\n",
            "  (0, 371)\t0.06811669125730968\n",
            "  (0, 47)\t0.06811669125730968\n",
            "  (0, 42)\t0.06811669125730968\n",
            "  (0, 36)\t0.06811669125730968\n",
            "  :\t:\n",
            "  (197, 106)\t0.057737977810748894\n",
            "  (197, 128)\t0.057737977810748894\n",
            "  (197, 132)\t0.057737977810748894\n",
            "  (197, 136)\t0.057737977810748894\n",
            "  (197, 402)\t0.057737977810748894\n",
            "  (197, 271)\t0.057737977810748894\n",
            "  (197, 191)\t0.17321393343224667\n",
            "  (197, 48)\t0.17321393343224667\n",
            "  (197, 362)\t0.17321393343224667\n",
            "  (197, 386)\t0.057737977810748894\n",
            "  (197, 368)\t0.17321393343224667\n",
            "  (197, 80)\t0.057737977810748894\n",
            "  (197, 44)\t0.17321393343224667\n",
            "  (197, 11)\t0.057737977810748894\n",
            "  (197, 40)\t0.17321393343224667\n",
            "  (197, 34)\t0.17321393343224667\n",
            "  (197, 23)\t0.11547595562149779\n",
            "  (197, 30)\t0.17321393343224667\n",
            "  (197, 96)\t0.057737977810748894\n",
            "  (197, 26)\t0.17321393343224667\n",
            "  (197, 38)\t0.057737977810748894\n",
            "  (197, 134)\t0.057737977810748894\n",
            "  (197, 82)\t0.057737977810748894\n",
            "  (197, 118)\t0.057737977810748894\n",
            "  (197, 124)\t0.057737977810748894\n"
          ]
        }
      ],
      "source": [
        "print(fecture_vectors)"
      ]
    },
    {
      "cell_type": "code",
      "execution_count": 435,
      "metadata": {
        "id": "vx3XGWzf5kx8"
      },
      "outputs": [],
      "source": [
        "similarity = cosine_similarity(fecture_vectors)"
      ]
    },
    {
      "cell_type": "code",
      "execution_count": 448,
      "metadata": {
        "colab": {
          "base_uri": "https://localhost:8080/"
        },
        "id": "h56E8b9-5oWv",
        "outputId": "e7c06652-e86c-4445-882e-ea99e7ae4b40"
      },
      "outputs": [
        {
          "name": "stdout",
          "output_type": "stream",
          "text": [
            "[[1.         0.78096307 0.81350311 ... 0.69618914 0.67262691 0.6685964 ]\n",
            " [0.78096307 1.         0.80544095 ... 0.68928961 0.66596089 0.66197033]\n",
            " [0.81350311 0.80544095 1.         ... 0.71800993 0.69370918 0.68955235]\n",
            " ...\n",
            " [0.69618914 0.68928961 0.71800993 ... 1.         0.5936705  0.59011312]\n",
            " [0.67262691 0.66596089 0.69370918 ... 0.5936705  1.         0.57014098]\n",
            " [0.6685964  0.66197033 0.68955235 ... 0.59011312 0.57014098 1.        ]]\n"
          ]
        }
      ],
      "source": [
        "print(similarity)\n",
        "pd.to_pickle(similarity,'similarity.pkl')"
      ]
    },
    {
      "cell_type": "code",
      "execution_count": null,
      "metadata": {
        "id": "5P8h9wkvaCjw"
      },
      "outputs": [],
      "source": []
    },
    {
      "cell_type": "code",
      "execution_count": 437,
      "metadata": {
        "colab": {
          "base_uri": "https://localhost:8080/"
        },
        "id": "oRiLe-ng5sHX",
        "outputId": "e6fdfb67-44a0-49bd-a8c9-00d490476f7c"
      },
      "outputs": [],
      "source": [
        "# getting the movie name from the users\n",
        "\n",
        "bike_name = input('Enter bike_name: ')\n",
        "# bike_name+=' '"
      ]
    },
    {
      "cell_type": "code",
      "execution_count": null,
      "metadata": {},
      "outputs": [],
      "source": []
    },
    {
      "cell_type": "code",
      "execution_count": 438,
      "metadata": {
        "colab": {
          "base_uri": "https://localhost:8080/"
        },
        "id": "Spn-NSAq57Jj",
        "outputId": "2b1c34c0-31e5-479b-e63c-82ecdadb5f9d"
      },
      "outputs": [
        {
          "name": "stdout",
          "output_type": "stream",
          "text": [
            "['Honda', 'Maruti Suzuki', 'Hyundai', 'Toyota', 'Toyota', 'Maruti Suzuki', 'Mercedes-Benz', 'BMW', 'Skoda', 'Nissan', 'Hyundai', 'Renault', 'Maruti Suzuki', 'Tata', 'Volkswagen', 'Maruti Suzuki', 'Maruti Suzuki', 'Maruti Suzuki', 'Maruti Suzuki', 'Hyundai', 'Maruti Suzuki', 'Volkswagen', 'Hyundai', 'Hyundai', 'Maruti Suzuki', 'Maruti Suzuki', 'Hyundai', 'Honda', 'Hyundai', 'Honda', 'Hyundai', 'Hyundai', 'Ford', 'Honda', 'Hyundai', 'Tata', 'Tata', 'Toyota', 'Mercedes-Benz', 'Hyundai', 'Mercedes-Benz', 'Toyota', 'Audi', 'Mercedes-Benz', 'Hyundai', 'Mahindra', 'Maruti Suzuki', 'Maruti Suzuki', 'Maruti Suzuki', 'Maruti Suzuki', 'Hyundai', 'Hyundai', 'Renault', 'MG', 'Tata', 'Toyota', 'BMW', 'Jeep', 'Mahindra', 'Honda', 'BMW', 'Honda', 'Volkswagen', 'Maruti Suzuki', 'Maruti Suzuki', 'Hyundai', 'BMW', 'Toyota', 'Honda', 'Audi', 'Maruti Suzuki', 'Hyundai', 'Audi', 'Honda', 'Ford', 'Honda', 'Volkswagen', 'Honda', 'Toyota', 'Mahindra', 'Mercedes-Benz', 'Audi', 'Maruti Suzuki', 'BMW', 'Maruti Suzuki', 'Hyundai', 'Volkswagen', 'Mercedes-Benz', 'Toyota', 'Maruti Suzuki', 'Nissan', 'Maruti Suzuki', 'Maruti Suzuki', 'BMW', 'Mercedes-Benz', 'Porsche', 'Mercedes-Benz', 'Hyundai', 'Hyundai', 'Royal Enfield Classic 350', 'Honda Dio', 'Royal Enfield Classic Gunmetal Grey', 'Yamaha Fazer FI V 2.0 [2016-2018]', 'Yamaha SZ [2013-2014]', 'Honda CB Twister', 'Honda CB Hornet 160R', 'Royal Enfield Bullet 350 [2007-2011]', 'Hero Honda CBZ extreme', 'Bajaj Discover 125', 'Yamaha FZ16', 'Honda Navi', 'Bajaj Avenger Street 220', 'Yamaha YZF R3', 'Jawa 42', 'Suzuki Access 125 [2007-2016]', 'Hero Honda Glamour', 'Yamaha YZF R15 S', 'Royal Enfield Classic Gunmetal Grey', 'Yamaha FZ25', 'Hero Passion Pro 110', 'Honda Navi [2016-2017]', 'Honda Activa i', 'Jawa Standard', 'Royal Enfield Thunderbird 350', 'Honda Dream Yuga', 'TVS Apache RTR 160 4V', 'Honda Navi [2016-2017]', 'Yamaha Fazer [2009-2016]', 'Hero Honda Splendor NXG', 'Hero Glamour 125', 'Yamaha FZ S [2012-2016]', 'Hero Xtreme Sports', 'Honda X-Blade', 'Honda CB Shine SP', 'Honda Activa 5G', 'Hero Glamour 125', 'Honda CBR-250R', 'Hero Honda Passion PRO [2012]', 'Royal Enfield Thunderbird 350', 'Bajaj Dominar 400', 'Hero Glamour FI', 'KTM 390 Duke', 'Hero Passion XPro', 'Yamaha FZ S V 2.0', 'Hero Achiever 150', 'Bajaj Discover 125', 'Yamaha FZ16', 'Yamaha Saluto', 'Yamaha FZ16', 'Bajaj Discover 100', 'Honda CB Trigger', 'Royal Enfield Electra 5 S', 'Hero Splendor PRO', 'Honda Activa 5G', 'Hero Honda Passion Plus', 'Bajaj Pulsar 150', 'Royal Enfield Bullet 350', 'Bajaj Discover 125', 'Bajaj Pulsar 150 [2001-2011]', 'Hero Splendor PRO', 'Hero Xtreme Sports', 'Honda Activa 3G', 'Yamaha FZ16', 'Honda CB Hornet 160R', 'Royal Enfield Thunderbird 350', 'Hero Hunk', \"Suzuki Let''s\", 'Royal Enfield Electra 4 S', 'TVS Scooty Pep Plus', 'Mahindra Mojo XT300', 'TVS Apache RTR 160', 'Bajaj Pulsar AS200', 'Bajaj Pulsar 150', 'Royal Enfield Thunderbird 350X', 'Suzuki Intruder 150', 'Hero Honda Karizma ZMR [2010]', 'Honda Dio', 'Bajaj Xcd', 'Hero Splendor Plus', 'Royal Enfield Thunderbird 350X', 'Honda CB Unicorn 150', 'Honda Activa 5G', 'Honda CB Twister', 'Hero Splendor PRO', 'Hero Honda CD Deluxe', 'Honda Activa i [2016-2017]', 'Royal Enfield Classic Gunmetal Grey', 'TVS Scooty Zest 110', 'Hero CD Deluxe', 'Suzuki Access 125 [2007-2016]', 'Honda Activa [2000-2015]', 'Honda Activa 125 [2016-2017]', 'Suzuki GS150R', 'Bajaj Pulsar 220S', 'Honda Activa 4G', 'Yamaha FZ25', 'Bajaj Pulsar 150', 'Hero Splendor Plus']\n"
          ]
        }
      ],
      "source": [
        "\n",
        "#creating a list with all movie names givenin the dataset\n",
        "\n",
        "list_of_all_name = bike_data['name'].tolist()\n",
        "print(list_of_all_name)\n",
        "     "
      ]
    },
    {
      "cell_type": "code",
      "execution_count": 439,
      "metadata": {
        "colab": {
          "base_uri": "https://localhost:8080/"
        },
        "id": "u7Vnj7QH7XSf",
        "outputId": "2017bebc-01f5-48f3-c5a4-609766008295"
      },
      "outputs": [
        {
          "name": "stdout",
          "output_type": "stream",
          "text": [
            "['Yamaha Fazer [2009-2016]', 'Yamaha FZ S [2012-2016]', 'Yamaha SZ [2013-2014]']\n"
          ]
        }
      ],
      "source": [
        "\n",
        "# finding the close match for the movie name given by the user\n",
        "find_close_match = difflib.get_close_matches(bike_name,list_of_all_name)\n",
        "print(find_close_match)"
      ]
    },
    {
      "cell_type": "code",
      "execution_count": 440,
      "metadata": {
        "colab": {
          "base_uri": "https://localhost:8080/"
        },
        "id": "ncaeg20r88qP",
        "outputId": "9541cd16-694d-4dee-d2a0-5b6174ca534f"
      },
      "outputs": [
        {
          "name": "stdout",
          "output_type": "stream",
          "text": [
            "Yamaha Fazer [2009-2016]\n"
          ]
        }
      ],
      "source": [
        "close_match = find_close_match[0]\n",
        "print(close_match)"
      ]
    },
    {
      "cell_type": "code",
      "execution_count": 441,
      "metadata": {
        "colab": {
          "base_uri": "https://localhost:8080/"
        },
        "id": "DBKENMik8DAw",
        "outputId": "751e3972-37ea-4218-c047-b28ff500632d"
      },
      "outputs": [
        {
          "name": "stdout",
          "output_type": "stream",
          "text": [
            "127\n"
          ]
        }
      ],
      "source": [
        "# finding the index of the bike with name\n",
        "\n",
        "index_of_the_bike = bike_data[bike_data.name == close_match]['index'].values[0]\n",
        "print(index_of_the_bike)\n",
        "     "
      ]
    },
    {
      "cell_type": "code",
      "execution_count": 442,
      "metadata": {
        "colab": {
          "base_uri": "https://localhost:8080/"
        },
        "id": "OStBXhBS-Dnp",
        "outputId": "360f5d0c-6c19-4655-9c6c-51dee4e347c2"
      },
      "outputs": [
        {
          "name": "stdout",
          "output_type": "stream",
          "text": [
            "[(0, 0.5744017925093577), (1, 0.5687092303570428), (2, 0.5924053781501176), (3, 0.5680961647328716), (4, 0.5680961647328716), (5, 0.5687092303570428), (6, 0.5292245545406896), (7, 0.5600630753018336), (8, 0.5189077192015131), (9, 0.5323101604362919), (10, 0.5924053781501176), (11, 0.5323101604362919), (12, 0.5687092303570428), (13, 0.5491307537510449), (14, 0.5550755775021678), (15, 0.5687092303570428), (16, 0.5687092303570428), (17, 0.5687092303570428), (18, 0.5687092303570428), (19, 0.5924053781501176), (20, 0.5687092303570428), (21, 0.5550755775021678), (22, 0.5924053781501176), (23, 0.5924053781501176), (24, 0.5687092303570428), (25, 0.5687092303570428), (26, 0.5924053781501176), (27, 0.5744017925093577), (28, 0.5924053781501176), (29, 0.5744017925093577), (30, 0.5924053781501176), (31, 0.5924053781501176), (32, 0.5323101604362919), (33, 0.5744017925093577), (34, 0.5924053781501176), (35, 0.5491307537510449), (36, 0.5491307537510449), (37, 0.5680961647328716), (38, 0.5292245545406896), (39, 0.5924053781501176), (40, 0.5292245545406896), (41, 0.5680961647328716), (42, 0.5491307537510449), (43, 0.5292245545406896), (44, 0.5924053781501176), (45, 0.5418045782850474), (46, 0.5687092303570428), (47, 0.5687092303570428), (48, 0.5687092303570428), (49, 0.5687092303570428), (50, 0.5924053781501176), (51, 0.5924053781501176), (52, 0.5323101604362919), (53, 0.5189077192015131), (54, 0.5491307537510449), (55, 0.5680961647328716), (56, 0.5600630753018336), (57, 0.5189077192015131), (58, 0.5418045782850474), (59, 0.5744017925093577), (60, 0.5600630753018336), (61, 0.5744017925093577), (62, 0.5550755775021678), (63, 0.5687092303570428), (64, 0.5687092303570428), (65, 0.5924053781501176), (66, 0.5600630753018336), (67, 0.5680961647328716), (68, 0.5744017925093577), (69, 0.5491307537510449), (70, 0.5687092303570428), (71, 0.5924053781501176), (72, 0.5491307537510449), (73, 0.5744017925093577), (74, 0.5323101604362919), (75, 0.5744017925093577), (76, 0.5550755775021678), (77, 0.5744017925093577), (78, 0.5680961647328716), (79, 0.5418045782850474), (80, 0.5292245545406896), (81, 0.5491307537510449), (82, 0.5687092303570428), (83, 0.5600630753018336), (84, 0.5687092303570428), (85, 0.5924053781501176), (86, 0.5550755775021678), (87, 0.5292245545406896), (88, 0.5680961647328716), (89, 0.5687092303570428), (90, 0.5323101604362919), (91, 0.5687092303570428), (92, 0.5687092303570428), (93, 0.5600630753018336), (94, 0.5292245545406896), (95, 0.5189077192015131), (96, 0.5292245545406896), (97, 0.5924053781501176), (98, 0.5924053781501176), (99, 0.457874592877131), (100, 0.513326890411546), (101, 0.4282749774352359), (102, 0.6584627150166718), (103, 0.5214085029989203), (104, 0.48255590124942327), (105, 0.4448447331015835), (106, 0.42968313036735056), (107, 0.4313001451920105), (108, 0.48269910603557753), (109, 0.600297325728625), (110, 0.501276174095982), (111, 0.41332401961056164), (112, 0.5235914208889583), (113, 0.4728366779602414), (114, 0.5402787061769615), (115, 0.47173509411732234), (116, 0.49306897514971876), (117, 0.4282749774352359), (118, 0.5836424922941587), (119, 0.43363049639908646), (120, 0.5387565471826459), (121, 0.4752437941697864), (122, 0.4728366779602414), (123, 0.46522441946793414), (124, 0.45352825828036886), (125, 0.38544674753632363), (126, 0.5387565471826459), (127, 1.0), (128, 0.4385070711220454), (129, 0.4823650569957124), (130, 0.6391590686950871), (131, 0.46785253102309515), (132, 0.501276174095982), (133, 0.4318876554049933), (134, 0.49264517651824274), (135, 0.4823650569957124), (136, 0.45352825828036886), (137, 0.45914941108358004), (138, 0.46522441946793414), (139, 0.44849518022085155), (140, 0.46267002120360334), (141, 0.4272582640926915), (142, 0.4621375426967028), (143, 0.5235914208889583), (144, 0.4700564136386664), (145, 0.48269910603557753), (146, 0.600297325728625), (147, 0.5702665276543716), (148, 0.600297325728625), (149, 0.4609503327726665), (150, 0.4725041279991998), (151, 0.4518760179941121), (152, 0.48577067996223544), (153, 0.49264517651824274), (154, 0.45098757376346355), (155, 0.4898171790519737), (156, 0.45121083457748123), (157, 0.48269910603557753), (158, 0.4456540543470631), (159, 0.48577067996223544), (160, 0.46785253102309515), (161, 0.4752437941697864), (162, 0.600297325728625), (163, 0.4448447331015835), (164, 0.46522441946793414), (165, 0.5003582074906044), (166, 0.45171745480912623), (167, 0.4518760179941121), (168, 0.41860189857870056), (169, 0.4272582640926915), (170, 0.41349172512414895), (171, 0.4651936002631548), (172, 0.4898171790519737), (173, 0.4540648716068586), (174, 0.4557086241152233), (175, 0.44579444911486055), (176, 0.513326890411546), (177, 0.49450507894419493), (178, 0.486882103904316), (179, 0.4540648716068586), (180, 0.4467379140590557), (181, 0.49264517651824274), (182, 0.48255590124942327), (183, 0.48577067996223544), (184, 0.44152965961352036), (185, 0.5519208155750364), (186, 0.4282749774352359), (187, 0.41349172512414895), (188, 0.46473234120649004), (189, 0.5402787061769615), (190, 0.4817002915346475), (191, 0.5136467775166692), (192, 0.4831566276561601), (193, 0.4651936002631548), (194, 0.4752437941697864), (195, 0.5836424922941587), (196, 0.4898171790519737), (197, 0.486882103904316)]\n"
          ]
        }
      ],
      "source": [
        "# getting a list of similar movies\n",
        "\n",
        "similarity_score = list(enumerate(similarity[index_of_the_bike]))\n",
        "print(similarity_score)"
      ]
    },
    {
      "cell_type": "code",
      "execution_count": 443,
      "metadata": {
        "colab": {
          "base_uri": "https://localhost:8080/"
        },
        "id": "5QHqUlRSA5r0",
        "outputId": "49a90378-7384-4b7b-af2e-a3e7ebeade85"
      },
      "outputs": [
        {
          "data": {
            "text/plain": [
              "198"
            ]
          },
          "execution_count": 443,
          "metadata": {},
          "output_type": "execute_result"
        }
      ],
      "source": [
        "\n",
        "len(similarity_score)"
      ]
    },
    {
      "cell_type": "code",
      "execution_count": 444,
      "metadata": {
        "colab": {
          "base_uri": "https://localhost:8080/"
        },
        "id": "2xr0cjcS69Qa",
        "outputId": "6ca7b869-3a56-4317-e19d-2b443c6496ce"
      },
      "outputs": [
        {
          "name": "stdout",
          "output_type": "stream",
          "text": [
            "[(127, 1.0), (102, 0.6584627150166718), (130, 0.6391590686950871), (109, 0.600297325728625), (146, 0.600297325728625), (148, 0.600297325728625), (162, 0.600297325728625), (2, 0.5924053781501176), (10, 0.5924053781501176), (19, 0.5924053781501176), (22, 0.5924053781501176), (23, 0.5924053781501176), (26, 0.5924053781501176), (28, 0.5924053781501176), (30, 0.5924053781501176), (31, 0.5924053781501176), (34, 0.5924053781501176), (39, 0.5924053781501176), (44, 0.5924053781501176), (50, 0.5924053781501176), (51, 0.5924053781501176), (65, 0.5924053781501176), (71, 0.5924053781501176), (85, 0.5924053781501176), (97, 0.5924053781501176), (98, 0.5924053781501176), (118, 0.5836424922941587), (195, 0.5836424922941587), (0, 0.5744017925093577), (27, 0.5744017925093577), (29, 0.5744017925093577), (33, 0.5744017925093577), (59, 0.5744017925093577), (61, 0.5744017925093577), (68, 0.5744017925093577), (73, 0.5744017925093577), (75, 0.5744017925093577), (77, 0.5744017925093577), (147, 0.5702665276543716), (1, 0.5687092303570428), (5, 0.5687092303570428), (12, 0.5687092303570428), (15, 0.5687092303570428), (16, 0.5687092303570428), (17, 0.5687092303570428), (18, 0.5687092303570428), (20, 0.5687092303570428), (24, 0.5687092303570428), (25, 0.5687092303570428), (46, 0.5687092303570428), (47, 0.5687092303570428), (48, 0.5687092303570428), (49, 0.5687092303570428), (63, 0.5687092303570428), (64, 0.5687092303570428), (70, 0.5687092303570428), (82, 0.5687092303570428), (84, 0.5687092303570428), (89, 0.5687092303570428), (91, 0.5687092303570428), (92, 0.5687092303570428), (3, 0.5680961647328716), (4, 0.5680961647328716), (37, 0.5680961647328716), (41, 0.5680961647328716), (55, 0.5680961647328716), (67, 0.5680961647328716), (78, 0.5680961647328716), (88, 0.5680961647328716), (7, 0.5600630753018336), (56, 0.5600630753018336), (60, 0.5600630753018336), (66, 0.5600630753018336), (83, 0.5600630753018336), (93, 0.5600630753018336), (14, 0.5550755775021678), (21, 0.5550755775021678), (62, 0.5550755775021678), (76, 0.5550755775021678), (86, 0.5550755775021678), (185, 0.5519208155750364), (13, 0.5491307537510449), (35, 0.5491307537510449), (36, 0.5491307537510449), (42, 0.5491307537510449), (54, 0.5491307537510449), (69, 0.5491307537510449), (72, 0.5491307537510449), (81, 0.5491307537510449), (45, 0.5418045782850474), (58, 0.5418045782850474), (79, 0.5418045782850474), (114, 0.5402787061769615), (189, 0.5402787061769615), (120, 0.5387565471826459), (126, 0.5387565471826459), (9, 0.5323101604362919), (11, 0.5323101604362919), (32, 0.5323101604362919), (52, 0.5323101604362919), (74, 0.5323101604362919), (90, 0.5323101604362919), (6, 0.5292245545406896), (38, 0.5292245545406896), (40, 0.5292245545406896), (43, 0.5292245545406896), (80, 0.5292245545406896), (87, 0.5292245545406896), (94, 0.5292245545406896), (96, 0.5292245545406896), (112, 0.5235914208889583), (143, 0.5235914208889583), (103, 0.5214085029989203), (8, 0.5189077192015131), (53, 0.5189077192015131), (57, 0.5189077192015131), (95, 0.5189077192015131), (191, 0.5136467775166692), (100, 0.513326890411546), (176, 0.513326890411546), (110, 0.501276174095982), (132, 0.501276174095982), (165, 0.5003582074906044), (177, 0.49450507894419493), (116, 0.49306897514971876), (134, 0.49264517651824274), (153, 0.49264517651824274), (181, 0.49264517651824274), (155, 0.4898171790519737), (172, 0.4898171790519737), (196, 0.4898171790519737), (178, 0.486882103904316), (197, 0.486882103904316), (152, 0.48577067996223544), (159, 0.48577067996223544), (183, 0.48577067996223544), (192, 0.4831566276561601), (108, 0.48269910603557753), (145, 0.48269910603557753), (157, 0.48269910603557753), (104, 0.48255590124942327), (182, 0.48255590124942327), (129, 0.4823650569957124), (135, 0.4823650569957124), (190, 0.4817002915346475), (121, 0.4752437941697864), (161, 0.4752437941697864), (194, 0.4752437941697864), (113, 0.4728366779602414), (122, 0.4728366779602414), (150, 0.4725041279991998), (115, 0.47173509411732234), (144, 0.4700564136386664), (131, 0.46785253102309515), (160, 0.46785253102309515), (123, 0.46522441946793414), (138, 0.46522441946793414), (164, 0.46522441946793414), (171, 0.4651936002631548), (193, 0.4651936002631548), (188, 0.46473234120649004), (140, 0.46267002120360334), (142, 0.4621375426967028), (149, 0.4609503327726665), (137, 0.45914941108358004), (99, 0.457874592877131), (174, 0.4557086241152233), (173, 0.4540648716068586), (179, 0.4540648716068586), (124, 0.45352825828036886), (136, 0.45352825828036886), (151, 0.4518760179941121), (167, 0.4518760179941121), (166, 0.45171745480912623), (156, 0.45121083457748123), (154, 0.45098757376346355), (139, 0.44849518022085155), (180, 0.4467379140590557), (175, 0.44579444911486055), (158, 0.4456540543470631), (105, 0.4448447331015835), (163, 0.4448447331015835), (184, 0.44152965961352036), (128, 0.4385070711220454), (119, 0.43363049639908646), (133, 0.4318876554049933), (107, 0.4313001451920105), (106, 0.42968313036735056), (101, 0.4282749774352359), (117, 0.4282749774352359), (186, 0.4282749774352359), (141, 0.4272582640926915), (169, 0.4272582640926915), (168, 0.41860189857870056), (170, 0.41349172512414895), (187, 0.41349172512414895), (111, 0.41332401961056164), (125, 0.38544674753632363)]\n"
          ]
        }
      ],
      "source": [
        "\n",
        "# shorting the moving on based on their similarity score\n",
        "\n",
        "sorted_similar_bike = sorted(similarity_score,key = lambda x:x[1],reverse = True)\n",
        "print(sorted_similar_bike)"
      ]
    },
    {
      "cell_type": "code",
      "execution_count": 445,
      "metadata": {
        "colab": {
          "base_uri": "https://localhost:8080/"
        },
        "id": "kjSiN4B26NKJ",
        "outputId": "4801302b-fa73-4bf9-8fda-18121f3d92d7"
      },
      "outputs": [
        {
          "name": "stdout",
          "output_type": "stream",
          "text": [
            "bike suggested for you: \n",
            "\n",
            "1 . Yamaha Fazer [2009-2016]\n",
            "2 . Yamaha Fazer FI V 2.0 [2016-2018]\n",
            "3 . Yamaha FZ S [2012-2016]\n",
            "4 . Yamaha FZ16\n",
            "5 . Yamaha FZ16\n",
            "6 . Yamaha FZ16\n",
            "7 . Yamaha FZ16\n",
            "8 . Hyundai\n",
            "9 . Hyundai\n",
            "10 . Hyundai\n"
          ]
        }
      ],
      "source": [
        "\n",
        "# print the name of similar movies based on index\n",
        "\n",
        "print('bike suggested for you: \\n')\n",
        "i=1\n",
        "for bikes in sorted_similar_bike:\n",
        "  index = bikes[0]\n",
        "  name_from_index = bike_data[bike_data.index == index]['name'].values[0]\n",
        "  if(i<11):\n",
        "    print(i,'.', name_from_index)\n",
        "    i+=1"
      ]
    },
    {
      "cell_type": "markdown",
      "metadata": {
        "id": "6r4vUuLfBYP7"
      },
      "source": [
        "All in one"
      ]
    },
    {
      "cell_type": "code",
      "execution_count": 446,
      "metadata": {
        "colab": {
          "base_uri": "https://localhost:8080/"
        },
        "id": "YLNq3yGTBWqU",
        "outputId": "cf16203c-6bba-49f6-f6d3-7c7fce07f029"
      },
      "outputs": [
        {
          "name": "stdout",
          "output_type": "stream",
          "text": [
            "bike suggested for you: \n",
            "\n",
            "1 . Yamaha Fazer [2009-2016]\n",
            "2 . Yamaha Fazer FI V 2.0 [2016-2018]\n",
            "3 . Yamaha FZ S [2012-2016]\n",
            "4 . Yamaha FZ16\n",
            "5 . Yamaha FZ16\n",
            "6 . Yamaha FZ16\n",
            "7 . Yamaha FZ16\n",
            "8 . Hyundai\n",
            "9 . Hyundai\n",
            "10 . Hyundai\n"
          ]
        }
      ],
      "source": [
        "bike_name = input('Enter bike name: ')\n",
        "\n",
        "list_of_all_name = bike_data['name'].tolist()\n",
        "\n",
        "find_close_match = difflib.get_close_matches(bike_name,list_of_all_name)\n",
        "\n",
        "close_match = find_close_match[0]\n",
        "\n",
        "name_of_the_bike = bike_data[bike_data.name == close_match]['index'].values[0]\n",
        "\n",
        "similarity_score = list(enumerate(similarity[name_of_the_bike]))\n",
        "\n",
        "sorted_similar_bike = sorted(similarity_score,key = lambda x:x[1],reverse = True)\n",
        "\n",
        "print('bike suggested for you: \\n')\n",
        "i=1\n",
        "for bike in sorted_similar_bike:\n",
        "  index = bike[0]\n",
        "  name_from_index = bike_data[bike_data.index == index]['name'].values[0]\n",
        "  if(i<11):\n",
        "    print(i,'.', name_from_index)\n",
        "    i+=1"
      ]
    }
  ],
  "metadata": {
    "colab": {
      "provenance": []
    },
    "kernelspec": {
      "display_name": "Python 3",
      "name": "python3"
    },
    "language_info": {
      "codemirror_mode": {
        "name": "ipython",
        "version": 3
      },
      "file_extension": ".py",
      "mimetype": "text/x-python",
      "name": "python",
      "nbconvert_exporter": "python",
      "pygments_lexer": "ipython3",
      "version": "3.10.0"
    }
  },
  "nbformat": 4,
  "nbformat_minor": 0
}
