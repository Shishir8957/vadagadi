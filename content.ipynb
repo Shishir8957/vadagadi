{
  "nbformat": 4,
  "nbformat_minor": 0,
  "metadata": {
    "colab": {
      "provenance": []
    },
    "kernelspec": {
      "name": "python3",
      "display_name": "Python 3"
    },
    "language_info": {
      "name": "python"
    }
  },
  "cells": [
    {
      "cell_type": "code",
      "execution_count": null,
      "metadata": {
        "id": "gMjgq6fSpGAr"
      },
      "outputs": [],
      "source": [
        "import numpy as np\n",
        "import pandas as pd\n",
        "import difflib\n",
        "import re\n",
        "import matplotlib.pyplot as plt\n",
        "import seaborn as sns\n",
        "from sklearn.feature_extraction.text import TfidfVectorizer\n",
        "from sklearn.metrics.pairwise import cosine_similarity\n"
      ]
    },
    {
      "cell_type": "code",
      "source": [
        "bike_data=pd.read_csv('/content/vehiclesdata.csv')\n",
        "bike_data\n",
        "\n"
      ],
      "metadata": {
        "id": "I1YI2HCesy5U",
        "colab": {
          "base_uri": "https://localhost:8080/",
          "height": 919
        },
        "outputId": "d912557a-1af1-4300-bba5-a4b6d7eb1063"
      },
      "execution_count": null,
      "outputs": [
        {
          "output_type": "execute_result",
          "data": {
            "text/plain": [
              "     index                name                            Model    Price  \\\n",
              "0        0               Honda              Amaze 1.2 VX i-VTEC   505000   \n",
              "1        1       Maruti Suzuki                  Swift DZire VDI   450000   \n",
              "2        2             Hyundai             i10 Magna 1.2 Kappa2   220000   \n",
              "3        3              Toyota                         Glanza G   799000   \n",
              "4        4              Toyota  Innova 2.4 VX 7 STR [2016-2020]  1950000   \n",
              "..     ...                 ...                              ...      ...   \n",
              "193    193   Bajaj Pulsar 220S                              NaN     2900   \n",
              "194    194     Honda Activa 4G                              NaN     1800   \n",
              "195    195         Yamaha FZ25                              NaN     1800   \n",
              "196    196    Bajaj Pulsar 150                              NaN     1400   \n",
              "197    197  Hero Splendor Plus                              NaN     2200   \n",
              "\n",
              "     Year  Kilometer Fuel Type Transmission   Engine           Max Power  \\\n",
              "0    2017      87150    Petrol       Manual  1198 cc   87 bhp @ 6000 rpm   \n",
              "1    2014      75000    Diesel       Manual  1248 cc   74 bhp @ 4000 rpm   \n",
              "2    2011      67000    Petrol       Manual  1197 cc   79 bhp @ 6000 rpm   \n",
              "3    2019      37500    Petrol       Manual  1197 cc   82 bhp @ 6000 rpm   \n",
              "4    2018      69000    Diesel       Manual  2393 cc  148 bhp @ 3400 rpm   \n",
              "..    ...        ...       ...          ...      ...                 ...   \n",
              "193  2015      45000    Petrol       Manual      250                 NaN   \n",
              "194  2018      25000    Petrol       Manual      350                 NaN   \n",
              "195  2019       2500    Petrol       Manual      350                 NaN   \n",
              "196  2015      22770    Petrol       Manual      250                 NaN   \n",
              "197  2015      30000    Petrol       Manual      250                 NaN   \n",
              "\n",
              "                 Max Torque  Seating Capacity  Fuel Tank Capacity  rating  \\\n",
              "0         109 Nm @ 4500 rpm                 5                  35       4   \n",
              "1         190 Nm @ 2000 rpm                 5                  42       4   \n",
              "2    112.7619 Nm @ 4000 rpm                 5                  35       5   \n",
              "3         113 Nm @ 4200 rpm                 5                  37       3   \n",
              "4         343 Nm @ 1400 rpm                 7                  55       3   \n",
              "..                      ...               ...                 ...     ...   \n",
              "193                     NaN                 2                  13       3   \n",
              "194                     NaN                 2                  13       5   \n",
              "195                     NaN                 2                  12       4   \n",
              "196                     NaN                 2                  12       5   \n",
              "197                     NaN                 2                  13       4   \n",
              "\n",
              "    vehicle_type  \n",
              "0            car  \n",
              "1            car  \n",
              "2            car  \n",
              "3            car  \n",
              "4            car  \n",
              "..           ...  \n",
              "193         bike  \n",
              "194         bike  \n",
              "195         bike  \n",
              "196         bike  \n",
              "197         bike  \n",
              "\n",
              "[198 rows x 15 columns]"
            ],
            "text/html": [
              "\n",
              "  <div id=\"df-9342b86c-54c9-432b-9479-803f53b4a61b\">\n",
              "    <div class=\"colab-df-container\">\n",
              "      <div>\n",
              "<style scoped>\n",
              "    .dataframe tbody tr th:only-of-type {\n",
              "        vertical-align: middle;\n",
              "    }\n",
              "\n",
              "    .dataframe tbody tr th {\n",
              "        vertical-align: top;\n",
              "    }\n",
              "\n",
              "    .dataframe thead th {\n",
              "        text-align: right;\n",
              "    }\n",
              "</style>\n",
              "<table border=\"1\" class=\"dataframe\">\n",
              "  <thead>\n",
              "    <tr style=\"text-align: right;\">\n",
              "      <th></th>\n",
              "      <th>index</th>\n",
              "      <th>name</th>\n",
              "      <th>Model</th>\n",
              "      <th>Price</th>\n",
              "      <th>Year</th>\n",
              "      <th>Kilometer</th>\n",
              "      <th>Fuel Type</th>\n",
              "      <th>Transmission</th>\n",
              "      <th>Engine</th>\n",
              "      <th>Max Power</th>\n",
              "      <th>Max Torque</th>\n",
              "      <th>Seating Capacity</th>\n",
              "      <th>Fuel Tank Capacity</th>\n",
              "      <th>rating</th>\n",
              "      <th>vehicle_type</th>\n",
              "    </tr>\n",
              "  </thead>\n",
              "  <tbody>\n",
              "    <tr>\n",
              "      <th>0</th>\n",
              "      <td>0</td>\n",
              "      <td>Honda</td>\n",
              "      <td>Amaze 1.2 VX i-VTEC</td>\n",
              "      <td>505000</td>\n",
              "      <td>2017</td>\n",
              "      <td>87150</td>\n",
              "      <td>Petrol</td>\n",
              "      <td>Manual</td>\n",
              "      <td>1198 cc</td>\n",
              "      <td>87 bhp @ 6000 rpm</td>\n",
              "      <td>109 Nm @ 4500 rpm</td>\n",
              "      <td>5</td>\n",
              "      <td>35</td>\n",
              "      <td>4</td>\n",
              "      <td>car</td>\n",
              "    </tr>\n",
              "    <tr>\n",
              "      <th>1</th>\n",
              "      <td>1</td>\n",
              "      <td>Maruti Suzuki</td>\n",
              "      <td>Swift DZire VDI</td>\n",
              "      <td>450000</td>\n",
              "      <td>2014</td>\n",
              "      <td>75000</td>\n",
              "      <td>Diesel</td>\n",
              "      <td>Manual</td>\n",
              "      <td>1248 cc</td>\n",
              "      <td>74 bhp @ 4000 rpm</td>\n",
              "      <td>190 Nm @ 2000 rpm</td>\n",
              "      <td>5</td>\n",
              "      <td>42</td>\n",
              "      <td>4</td>\n",
              "      <td>car</td>\n",
              "    </tr>\n",
              "    <tr>\n",
              "      <th>2</th>\n",
              "      <td>2</td>\n",
              "      <td>Hyundai</td>\n",
              "      <td>i10 Magna 1.2 Kappa2</td>\n",
              "      <td>220000</td>\n",
              "      <td>2011</td>\n",
              "      <td>67000</td>\n",
              "      <td>Petrol</td>\n",
              "      <td>Manual</td>\n",
              "      <td>1197 cc</td>\n",
              "      <td>79 bhp @ 6000 rpm</td>\n",
              "      <td>112.7619 Nm @ 4000 rpm</td>\n",
              "      <td>5</td>\n",
              "      <td>35</td>\n",
              "      <td>5</td>\n",
              "      <td>car</td>\n",
              "    </tr>\n",
              "    <tr>\n",
              "      <th>3</th>\n",
              "      <td>3</td>\n",
              "      <td>Toyota</td>\n",
              "      <td>Glanza G</td>\n",
              "      <td>799000</td>\n",
              "      <td>2019</td>\n",
              "      <td>37500</td>\n",
              "      <td>Petrol</td>\n",
              "      <td>Manual</td>\n",
              "      <td>1197 cc</td>\n",
              "      <td>82 bhp @ 6000 rpm</td>\n",
              "      <td>113 Nm @ 4200 rpm</td>\n",
              "      <td>5</td>\n",
              "      <td>37</td>\n",
              "      <td>3</td>\n",
              "      <td>car</td>\n",
              "    </tr>\n",
              "    <tr>\n",
              "      <th>4</th>\n",
              "      <td>4</td>\n",
              "      <td>Toyota</td>\n",
              "      <td>Innova 2.4 VX 7 STR [2016-2020]</td>\n",
              "      <td>1950000</td>\n",
              "      <td>2018</td>\n",
              "      <td>69000</td>\n",
              "      <td>Diesel</td>\n",
              "      <td>Manual</td>\n",
              "      <td>2393 cc</td>\n",
              "      <td>148 bhp @ 3400 rpm</td>\n",
              "      <td>343 Nm @ 1400 rpm</td>\n",
              "      <td>7</td>\n",
              "      <td>55</td>\n",
              "      <td>3</td>\n",
              "      <td>car</td>\n",
              "    </tr>\n",
              "    <tr>\n",
              "      <th>...</th>\n",
              "      <td>...</td>\n",
              "      <td>...</td>\n",
              "      <td>...</td>\n",
              "      <td>...</td>\n",
              "      <td>...</td>\n",
              "      <td>...</td>\n",
              "      <td>...</td>\n",
              "      <td>...</td>\n",
              "      <td>...</td>\n",
              "      <td>...</td>\n",
              "      <td>...</td>\n",
              "      <td>...</td>\n",
              "      <td>...</td>\n",
              "      <td>...</td>\n",
              "      <td>...</td>\n",
              "    </tr>\n",
              "    <tr>\n",
              "      <th>193</th>\n",
              "      <td>193</td>\n",
              "      <td>Bajaj Pulsar 220S</td>\n",
              "      <td>NaN</td>\n",
              "      <td>2900</td>\n",
              "      <td>2015</td>\n",
              "      <td>45000</td>\n",
              "      <td>Petrol</td>\n",
              "      <td>Manual</td>\n",
              "      <td>250</td>\n",
              "      <td>NaN</td>\n",
              "      <td>NaN</td>\n",
              "      <td>2</td>\n",
              "      <td>13</td>\n",
              "      <td>3</td>\n",
              "      <td>bike</td>\n",
              "    </tr>\n",
              "    <tr>\n",
              "      <th>194</th>\n",
              "      <td>194</td>\n",
              "      <td>Honda Activa 4G</td>\n",
              "      <td>NaN</td>\n",
              "      <td>1800</td>\n",
              "      <td>2018</td>\n",
              "      <td>25000</td>\n",
              "      <td>Petrol</td>\n",
              "      <td>Manual</td>\n",
              "      <td>350</td>\n",
              "      <td>NaN</td>\n",
              "      <td>NaN</td>\n",
              "      <td>2</td>\n",
              "      <td>13</td>\n",
              "      <td>5</td>\n",
              "      <td>bike</td>\n",
              "    </tr>\n",
              "    <tr>\n",
              "      <th>195</th>\n",
              "      <td>195</td>\n",
              "      <td>Yamaha FZ25</td>\n",
              "      <td>NaN</td>\n",
              "      <td>1800</td>\n",
              "      <td>2019</td>\n",
              "      <td>2500</td>\n",
              "      <td>Petrol</td>\n",
              "      <td>Manual</td>\n",
              "      <td>350</td>\n",
              "      <td>NaN</td>\n",
              "      <td>NaN</td>\n",
              "      <td>2</td>\n",
              "      <td>12</td>\n",
              "      <td>4</td>\n",
              "      <td>bike</td>\n",
              "    </tr>\n",
              "    <tr>\n",
              "      <th>196</th>\n",
              "      <td>196</td>\n",
              "      <td>Bajaj Pulsar 150</td>\n",
              "      <td>NaN</td>\n",
              "      <td>1400</td>\n",
              "      <td>2015</td>\n",
              "      <td>22770</td>\n",
              "      <td>Petrol</td>\n",
              "      <td>Manual</td>\n",
              "      <td>250</td>\n",
              "      <td>NaN</td>\n",
              "      <td>NaN</td>\n",
              "      <td>2</td>\n",
              "      <td>12</td>\n",
              "      <td>5</td>\n",
              "      <td>bike</td>\n",
              "    </tr>\n",
              "    <tr>\n",
              "      <th>197</th>\n",
              "      <td>197</td>\n",
              "      <td>Hero Splendor Plus</td>\n",
              "      <td>NaN</td>\n",
              "      <td>2200</td>\n",
              "      <td>2015</td>\n",
              "      <td>30000</td>\n",
              "      <td>Petrol</td>\n",
              "      <td>Manual</td>\n",
              "      <td>250</td>\n",
              "      <td>NaN</td>\n",
              "      <td>NaN</td>\n",
              "      <td>2</td>\n",
              "      <td>13</td>\n",
              "      <td>4</td>\n",
              "      <td>bike</td>\n",
              "    </tr>\n",
              "  </tbody>\n",
              "</table>\n",
              "<p>198 rows × 15 columns</p>\n",
              "</div>\n",
              "      <button class=\"colab-df-convert\" onclick=\"convertToInteractive('df-9342b86c-54c9-432b-9479-803f53b4a61b')\"\n",
              "              title=\"Convert this dataframe to an interactive table.\"\n",
              "              style=\"display:none;\">\n",
              "        \n",
              "  <svg xmlns=\"http://www.w3.org/2000/svg\" height=\"24px\"viewBox=\"0 0 24 24\"\n",
              "       width=\"24px\">\n",
              "    <path d=\"M0 0h24v24H0V0z\" fill=\"none\"/>\n",
              "    <path d=\"M18.56 5.44l.94 2.06.94-2.06 2.06-.94-2.06-.94-.94-2.06-.94 2.06-2.06.94zm-11 1L8.5 8.5l.94-2.06 2.06-.94-2.06-.94L8.5 2.5l-.94 2.06-2.06.94zm10 10l.94 2.06.94-2.06 2.06-.94-2.06-.94-.94-2.06-.94 2.06-2.06.94z\"/><path d=\"M17.41 7.96l-1.37-1.37c-.4-.4-.92-.59-1.43-.59-.52 0-1.04.2-1.43.59L10.3 9.45l-7.72 7.72c-.78.78-.78 2.05 0 2.83L4 21.41c.39.39.9.59 1.41.59.51 0 1.02-.2 1.41-.59l7.78-7.78 2.81-2.81c.8-.78.8-2.07 0-2.86zM5.41 20L4 18.59l7.72-7.72 1.47 1.35L5.41 20z\"/>\n",
              "  </svg>\n",
              "      </button>\n",
              "      \n",
              "  <style>\n",
              "    .colab-df-container {\n",
              "      display:flex;\n",
              "      flex-wrap:wrap;\n",
              "      gap: 12px;\n",
              "    }\n",
              "\n",
              "    .colab-df-convert {\n",
              "      background-color: #E8F0FE;\n",
              "      border: none;\n",
              "      border-radius: 50%;\n",
              "      cursor: pointer;\n",
              "      display: none;\n",
              "      fill: #1967D2;\n",
              "      height: 32px;\n",
              "      padding: 0 0 0 0;\n",
              "      width: 32px;\n",
              "    }\n",
              "\n",
              "    .colab-df-convert:hover {\n",
              "      background-color: #E2EBFA;\n",
              "      box-shadow: 0px 1px 2px rgba(60, 64, 67, 0.3), 0px 1px 3px 1px rgba(60, 64, 67, 0.15);\n",
              "      fill: #174EA6;\n",
              "    }\n",
              "\n",
              "    [theme=dark] .colab-df-convert {\n",
              "      background-color: #3B4455;\n",
              "      fill: #D2E3FC;\n",
              "    }\n",
              "\n",
              "    [theme=dark] .colab-df-convert:hover {\n",
              "      background-color: #434B5C;\n",
              "      box-shadow: 0px 1px 3px 1px rgba(0, 0, 0, 0.15);\n",
              "      filter: drop-shadow(0px 1px 2px rgba(0, 0, 0, 0.3));\n",
              "      fill: #FFFFFF;\n",
              "    }\n",
              "  </style>\n",
              "\n",
              "      <script>\n",
              "        const buttonEl =\n",
              "          document.querySelector('#df-9342b86c-54c9-432b-9479-803f53b4a61b button.colab-df-convert');\n",
              "        buttonEl.style.display =\n",
              "          google.colab.kernel.accessAllowed ? 'block' : 'none';\n",
              "\n",
              "        async function convertToInteractive(key) {\n",
              "          const element = document.querySelector('#df-9342b86c-54c9-432b-9479-803f53b4a61b');\n",
              "          const dataTable =\n",
              "            await google.colab.kernel.invokeFunction('convertToInteractive',\n",
              "                                                     [key], {});\n",
              "          if (!dataTable) return;\n",
              "\n",
              "          const docLinkHtml = 'Like what you see? Visit the ' +\n",
              "            '<a target=\"_blank\" href=https://colab.research.google.com/notebooks/data_table.ipynb>data table notebook</a>'\n",
              "            + ' to learn more about interactive tables.';\n",
              "          element.innerHTML = '';\n",
              "          dataTable['output_type'] = 'display_data';\n",
              "          await google.colab.output.renderOutput(dataTable, element);\n",
              "          const docLink = document.createElement('div');\n",
              "          docLink.innerHTML = docLinkHtml;\n",
              "          element.appendChild(docLink);\n",
              "        }\n",
              "      </script>\n",
              "    </div>\n",
              "  </div>\n",
              "  "
            ]
          },
          "metadata": {},
          "execution_count": 6
        }
      ]
    },
    {
      "cell_type": "code",
      "source": [
        "#fig,ax=plt.subplots(figsize=(8,8))\n",
        "#sns.distplot(bike_data.ex_showroom_price)\n",
        "def clean_name(name):\n",
        "   return re.sub(\"[^a-zA-Z0-9]\",\"\",name)\n",
        "   return name\n"
      ],
      "metadata": {
        "id": "Ut-7jMlh6ZTy"
      },
      "execution_count": null,
      "outputs": []
    },
    {
      "cell_type": "code",
      "source": [],
      "metadata": {
        "id": "iDRh4bfD4Cmo"
      },
      "execution_count": null,
      "outputs": []
    },
    {
      "cell_type": "code",
      "source": [
        "# bike_data[\"clean_name\"] = bike_data[\"name\"].apply(clean_name)"
      ],
      "metadata": {
        "id": "vSjZUycK8_cd"
      },
      "execution_count": null,
      "outputs": []
    },
    {
      "cell_type": "code",
      "source": [
        "bike_data['Max Power'].fillna(bike_data['Max Power'].median,inplace=True)\n",
        "bike_data['Max Torque'].fillna(bike_data['Max Torque'].median,inplace=True)\n",
        "bike_data.isnull().sum()\n"
      ],
      "metadata": {
        "colab": {
          "base_uri": "https://localhost:8080/"
        },
        "id": "3WVfjDbzVW3V",
        "outputId": "65011b6f-d7d4-41ac-921f-8acaae88aa45"
      },
      "execution_count": null,
      "outputs": [
        {
          "output_type": "execute_result",
          "data": {
            "text/plain": [
              "index                  0\n",
              "name                   0\n",
              "Model                 99\n",
              "Price                  0\n",
              "Year                   0\n",
              "Kilometer              0\n",
              "Fuel Type              0\n",
              "Transmission           0\n",
              "Engine                 0\n",
              "Max Power              0\n",
              "Max Torque             0\n",
              "Seating Capacity       0\n",
              "Fuel Tank Capacity     0\n",
              "rating                 0\n",
              "vehicle_type           0\n",
              "dtype: int64"
            ]
          },
          "metadata": {},
          "execution_count": 9
        }
      ]
    },
    {
      "cell_type": "code",
      "source": [
        "bike_data.duplicated().sum()"
      ],
      "metadata": {
        "colab": {
          "base_uri": "https://localhost:8080/"
        },
        "id": "e8gpeMJ0AK3b",
        "outputId": "df3efeae-42dc-4e05-9f09-ca917ff9b522"
      },
      "execution_count": null,
      "outputs": [
        {
          "output_type": "execute_result",
          "data": {
            "text/plain": [
              "0"
            ]
          },
          "metadata": {},
          "execution_count": 10
        }
      ]
    },
    {
      "cell_type": "code",
      "source": [
        "selected_features = ['Price','rating','name','Kilometer','vehicle_type']\n",
        "print(selected_features)"
      ],
      "metadata": {
        "colab": {
          "base_uri": "https://localhost:8080/"
        },
        "id": "wlFm63bZV4rR",
        "outputId": "8d1f62aa-a067-434f-9bce-1cc3b1860652"
      },
      "execution_count": null,
      "outputs": [
        {
          "output_type": "stream",
          "name": "stdout",
          "text": [
            "['Price', 'rating', 'name', 'Kilometer', 'vehicle_type']\n"
          ]
        }
      ]
    },
    {
      "cell_type": "code",
      "source": [
        "for feature in selected_features:\n",
        "  bike_data[feature] = bike_data[feature].fillna('')"
      ],
      "metadata": {
        "id": "n0sYJUV3lDa3"
      },
      "execution_count": null,
      "outputs": []
    },
    {
      "cell_type": "code",
      "source": [
        "combined_features=str(bike_data['Price'])+str(bike_data['rating'])+bike_data['name']+bike_data['vehicle_type']+str(bike_data['Kilometer'])"
      ],
      "metadata": {
        "id": "uHJpsRPkopBz"
      },
      "execution_count": null,
      "outputs": []
    },
    {
      "cell_type": "code",
      "source": [
        "print(combined_features)"
      ],
      "metadata": {
        "colab": {
          "base_uri": "https://localhost:8080/"
        },
        "id": "2TKYnrTvWI0y",
        "outputId": "0d10cf97-9ceb-49c2-c81b-392c1e587429"
      },
      "execution_count": null,
      "outputs": [
        {
          "output_type": "stream",
          "name": "stdout",
          "text": [
            "0      0       505000\\n1       450000\\n2       220000...\n",
            "1      0       505000\\n1       450000\\n2       220000...\n",
            "2      0       505000\\n1       450000\\n2       220000...\n",
            "3      0       505000\\n1       450000\\n2       220000...\n",
            "4      0       505000\\n1       450000\\n2       220000...\n",
            "                             ...                        \n",
            "193    0       505000\\n1       450000\\n2       220000...\n",
            "194    0       505000\\n1       450000\\n2       220000...\n",
            "195    0       505000\\n1       450000\\n2       220000...\n",
            "196    0       505000\\n1       450000\\n2       220000...\n",
            "197    0       505000\\n1       450000\\n2       220000...\n",
            "Length: 198, dtype: object\n"
          ]
        }
      ]
    },
    {
      "cell_type": "code",
      "source": [
        "vectorizer = TfidfVectorizer(ngram_range=(1,2))"
      ],
      "metadata": {
        "id": "D5-MJ3LTlXFm"
      },
      "execution_count": null,
      "outputs": []
    },
    {
      "cell_type": "code",
      "source": [
        "fecture_vectors = vectorizer.fit_transform(combined_features)"
      ],
      "metadata": {
        "id": "6UcZ9ZCS470G"
      },
      "execution_count": null,
      "outputs": []
    },
    {
      "cell_type": "code",
      "source": [
        "print(fecture_vectors)"
      ],
      "metadata": {
        "colab": {
          "base_uri": "https://localhost:8080/"
        },
        "id": "gIcz-4kr48q0",
        "outputId": "0b7f0b9c-ebfc-4805-db26-02206955c212"
      },
      "execution_count": null,
      "outputs": [
        {
          "output_type": "stream",
          "name": "stdout",
          "text": [
            "  (0, 192)\t0.06811669125730968\n",
            "  (0, 361)\t0.06811669125730968\n",
            "  (0, 369)\t0.06811669125730968\n",
            "  (0, 99)\t0.06811669125730968\n",
            "  (0, 46)\t0.06811669125730968\n",
            "  (0, 89)\t0.06811669125730968\n",
            "  (0, 43)\t0.06811669125730968\n",
            "  (0, 91)\t0.06811669125730968\n",
            "  (0, 37)\t0.06811669125730968\n",
            "  (0, 93)\t0.06811669125730968\n",
            "  (0, 33)\t0.06811669125730968\n",
            "  (0, 117)\t0.06811669125730968\n",
            "  (0, 29)\t0.06811669125730968\n",
            "  (0, 131)\t0.06811669125730968\n",
            "  (0, 107)\t0.06811669125730968\n",
            "  (0, 129)\t0.06811669125730968\n",
            "  (0, 133)\t0.06811669125730968\n",
            "  (0, 137)\t0.06811669125730968\n",
            "  (0, 304)\t0.26534240976932666\n",
            "  (0, 200)\t0.26534240976932666\n",
            "  (0, 403)\t0.06811669125730968\n",
            "  (0, 371)\t0.06811669125730968\n",
            "  (0, 47)\t0.06811669125730968\n",
            "  (0, 42)\t0.06811669125730968\n",
            "  (0, 36)\t0.06811669125730968\n",
            "  :\t:\n",
            "  (197, 106)\t0.057737977810748894\n",
            "  (197, 128)\t0.057737977810748894\n",
            "  (197, 132)\t0.057737977810748894\n",
            "  (197, 136)\t0.057737977810748894\n",
            "  (197, 402)\t0.057737977810748894\n",
            "  (197, 271)\t0.057737977810748894\n",
            "  (197, 191)\t0.17321393343224667\n",
            "  (197, 48)\t0.17321393343224667\n",
            "  (197, 362)\t0.17321393343224667\n",
            "  (197, 386)\t0.057737977810748894\n",
            "  (197, 368)\t0.17321393343224667\n",
            "  (197, 80)\t0.057737977810748894\n",
            "  (197, 44)\t0.17321393343224667\n",
            "  (197, 11)\t0.057737977810748894\n",
            "  (197, 40)\t0.17321393343224667\n",
            "  (197, 34)\t0.17321393343224667\n",
            "  (197, 23)\t0.11547595562149779\n",
            "  (197, 30)\t0.17321393343224667\n",
            "  (197, 96)\t0.057737977810748894\n",
            "  (197, 26)\t0.17321393343224667\n",
            "  (197, 38)\t0.057737977810748894\n",
            "  (197, 134)\t0.057737977810748894\n",
            "  (197, 82)\t0.057737977810748894\n",
            "  (197, 118)\t0.057737977810748894\n",
            "  (197, 124)\t0.057737977810748894\n"
          ]
        }
      ]
    },
    {
      "cell_type": "code",
      "source": [
        "similarity = cosine_similarity(fecture_vectors)"
      ],
      "metadata": {
        "id": "vx3XGWzf5kx8"
      },
      "execution_count": null,
      "outputs": []
    },
    {
      "cell_type": "code",
      "source": [
        "print(similarity)"
      ],
      "metadata": {
        "colab": {
          "base_uri": "https://localhost:8080/"
        },
        "id": "h56E8b9-5oWv",
        "outputId": "e7c06652-e86c-4445-882e-ea99e7ae4b40"
      },
      "execution_count": null,
      "outputs": [
        {
          "output_type": "stream",
          "name": "stdout",
          "text": [
            "[[1.         0.78096307 0.81350311 ... 0.69618914 0.67262691 0.6685964 ]\n",
            " [0.78096307 1.         0.80544095 ... 0.68928961 0.66596089 0.66197033]\n",
            " [0.81350311 0.80544095 1.         ... 0.71800993 0.69370918 0.68955235]\n",
            " ...\n",
            " [0.69618914 0.68928961 0.71800993 ... 1.         0.5936705  0.59011312]\n",
            " [0.67262691 0.66596089 0.69370918 ... 0.5936705  1.         0.57014098]\n",
            " [0.6685964  0.66197033 0.68955235 ... 0.59011312 0.57014098 1.        ]]\n"
          ]
        }
      ]
    },
    {
      "cell_type": "code",
      "source": [],
      "metadata": {
        "id": "5P8h9wkvaCjw"
      },
      "execution_count": null,
      "outputs": []
    },
    {
      "cell_type": "code",
      "source": [
        "# getting the movie name from the users\n",
        "\n",
        "bike_name = input('Enter bike_name: ')"
      ],
      "metadata": {
        "colab": {
          "base_uri": "https://localhost:8080/"
        },
        "id": "oRiLe-ng5sHX",
        "outputId": "e6fdfb67-44a0-49bd-a8c9-00d490476f7c"
      },
      "execution_count": null,
      "outputs": [
        {
          "name": "stdout",
          "output_type": "stream",
          "text": [
            "Enter bike_name: Toyota\n"
          ]
        }
      ]
    },
    {
      "cell_type": "code",
      "source": [
        "\n",
        "#creating a list with all movie names givenin the dataset\n",
        "\n",
        "list_of_all_name = bike_data['name'].tolist()\n",
        "print(list_of_all_name)\n",
        ""
      ],
      "metadata": {
        "colab": {
          "base_uri": "https://localhost:8080/"
        },
        "id": "Spn-NSAq57Jj",
        "outputId": "2b1c34c0-31e5-479b-e63c-82ecdadb5f9d"
      },
      "execution_count": null,
      "outputs": [
        {
          "output_type": "stream",
          "name": "stdout",
          "text": [
            "['Honda', 'Maruti Suzuki', 'Hyundai', 'Toyota', 'Toyota', 'Maruti Suzuki', 'Mercedes-Benz', 'BMW', 'Skoda', 'Nissan', 'Hyundai', 'Renault', 'Maruti Suzuki', 'Tata', 'Volkswagen', 'Maruti Suzuki', 'Maruti Suzuki', 'Maruti Suzuki', 'Maruti Suzuki', 'Hyundai', 'Maruti Suzuki', 'Volkswagen', 'Hyundai', 'Hyundai', 'Maruti Suzuki', 'Maruti Suzuki', 'Hyundai', 'Honda', 'Hyundai', 'Honda', 'Hyundai', 'Hyundai', 'Ford', 'Honda', 'Hyundai', 'Tata', 'Tata', 'Toyota', 'Mercedes-Benz', 'Hyundai', 'Mercedes-Benz', 'Toyota', 'Audi', 'Mercedes-Benz', 'Hyundai', 'Mahindra', 'Maruti Suzuki', 'Maruti Suzuki', 'Maruti Suzuki', 'Maruti Suzuki', 'Hyundai', 'Hyundai', 'Renault', 'MG', 'Tata', 'Toyota', 'BMW', 'Jeep', 'Mahindra', 'Honda', 'BMW', 'Honda', 'Volkswagen', 'Maruti Suzuki', 'Maruti Suzuki', 'Hyundai', 'BMW', 'Toyota', 'Honda', 'Audi', 'Maruti Suzuki', 'Hyundai', 'Audi', 'Honda', 'Ford', 'Honda', 'Volkswagen', 'Honda', 'Toyota', 'Mahindra', 'Mercedes-Benz', 'Audi', 'Maruti Suzuki', 'BMW', 'Maruti Suzuki', 'Hyundai', 'Volkswagen', 'Mercedes-Benz', 'Toyota', 'Maruti Suzuki', 'Nissan', 'Maruti Suzuki', 'Maruti Suzuki', 'BMW', 'Mercedes-Benz', 'Porsche', 'Mercedes-Benz', 'Hyundai', 'Hyundai', 'Royal Enfield Classic 350', 'Honda Dio', 'Royal Enfield Classic Gunmetal Grey', 'Yamaha Fazer FI V 2.0 [2016-2018]', 'Yamaha SZ [2013-2014]', 'Honda CB Twister', 'Honda CB Hornet 160R', 'Royal Enfield Bullet 350 [2007-2011]', 'Hero Honda CBZ extreme', 'Bajaj Discover 125', 'Yamaha FZ16', 'Honda Navi', 'Bajaj Avenger Street 220', 'Yamaha YZF R3', 'Jawa 42', 'Suzuki Access 125 [2007-2016]', 'Hero Honda Glamour', 'Yamaha YZF R15 S', 'Royal Enfield Classic Gunmetal Grey', 'Yamaha FZ25', 'Hero Passion Pro 110', 'Honda Navi [2016-2017]', 'Honda Activa i', 'Jawa Standard', 'Royal Enfield Thunderbird 350', 'Honda Dream Yuga', 'TVS Apache RTR 160 4V', 'Honda Navi [2016-2017]', 'Yamaha Fazer [2009-2016]', 'Hero Honda Splendor NXG', 'Hero Glamour 125', 'Yamaha FZ S [2012-2016]', 'Hero Xtreme Sports', 'Honda X-Blade', 'Honda CB Shine SP', 'Honda Activa 5G', 'Hero Glamour 125', 'Honda CBR-250R', 'Hero Honda Passion PRO [2012]', 'Royal Enfield Thunderbird 350', 'Bajaj Dominar 400', 'Hero Glamour FI', 'KTM 390 Duke', 'Hero Passion XPro', 'Yamaha FZ S V 2.0', 'Hero Achiever 150', 'Bajaj Discover 125', 'Yamaha FZ16', 'Yamaha Saluto', 'Yamaha FZ16', 'Bajaj Discover 100', 'Honda CB Trigger', 'Royal Enfield Electra 5 S', 'Hero Splendor PRO', 'Honda Activa 5G', 'Hero Honda Passion Plus', 'Bajaj Pulsar 150', 'Royal Enfield Bullet 350', 'Bajaj Discover 125', 'Bajaj Pulsar 150 [2001-2011]', 'Hero Splendor PRO', 'Hero Xtreme Sports', 'Honda Activa 3G', 'Yamaha FZ16', 'Honda CB Hornet 160R', 'Royal Enfield Thunderbird 350', 'Hero Hunk', \"Suzuki Let''s\", 'Royal Enfield Electra 4 S', 'TVS Scooty Pep Plus', 'Mahindra Mojo XT300', 'TVS Apache RTR 160', 'Bajaj Pulsar AS200', 'Bajaj Pulsar 150', 'Royal Enfield Thunderbird 350X', 'Suzuki Intruder 150', 'Hero Honda Karizma ZMR [2010]', 'Honda Dio', 'Bajaj Xcd', 'Hero Splendor Plus', 'Royal Enfield Thunderbird 350X', 'Honda CB Unicorn 150', 'Honda Activa 5G', 'Honda CB Twister', 'Hero Splendor PRO', 'Hero Honda CD Deluxe', 'Honda Activa i [2016-2017]', 'Royal Enfield Classic Gunmetal Grey', 'TVS Scooty Zest 110', 'Hero CD Deluxe', 'Suzuki Access 125 [2007-2016]', 'Honda Activa [2000-2015]', 'Honda Activa 125 [2016-2017]', 'Suzuki GS150R', 'Bajaj Pulsar 220S', 'Honda Activa 4G', 'Yamaha FZ25', 'Bajaj Pulsar 150', 'Hero Splendor Plus']\n"
          ]
        }
      ]
    },
    {
      "cell_type": "code",
      "source": [
        "\n",
        "# finding the close match for the movie name given by the user\n",
        "find_close_match = difflib.get_close_matches(bike_name,list_of_all_name)\n",
        "print(find_close_match)"
      ],
      "metadata": {
        "colab": {
          "base_uri": "https://localhost:8080/"
        },
        "id": "u7Vnj7QH7XSf",
        "outputId": "2017bebc-01f5-48f3-c5a4-609766008295"
      },
      "execution_count": null,
      "outputs": [
        {
          "output_type": "stream",
          "name": "stdout",
          "text": [
            "['Toyota', 'Toyota', 'Toyota']\n"
          ]
        }
      ]
    },
    {
      "cell_type": "code",
      "source": [
        "close_match = find_close_match[0]\n",
        "print(close_match)"
      ],
      "metadata": {
        "colab": {
          "base_uri": "https://localhost:8080/"
        },
        "id": "ncaeg20r88qP",
        "outputId": "9541cd16-694d-4dee-d2a0-5b6174ca534f"
      },
      "execution_count": null,
      "outputs": [
        {
          "output_type": "stream",
          "name": "stdout",
          "text": [
            "Toyota\n"
          ]
        }
      ]
    },
    {
      "cell_type": "code",
      "source": [
        "# finding the index of the bike with name\n",
        "\n",
        "index_of_the_bike = bike_data[bike_data.name == close_match]['index'].values[0]\n",
        "print(index_of_the_bike)\n",
        ""
      ],
      "metadata": {
        "colab": {
          "base_uri": "https://localhost:8080/"
        },
        "id": "DBKENMik8DAw",
        "outputId": "751e3972-37ea-4218-c047-b28ff500632d"
      },
      "execution_count": null,
      "outputs": [
        {
          "output_type": "stream",
          "name": "stdout",
          "text": [
            "3\n"
          ]
        }
      ]
    },
    {
      "cell_type": "code",
      "source": [
        "# getting a list of similar movies\n",
        "\n",
        "similarity_score = list(enumerate(similarity[index_of_the_bike]))\n",
        "print(similarity_score)"
      ],
      "metadata": {
        "colab": {
          "base_uri": "https://localhost:8080/"
        },
        "id": "OStBXhBS-Dnp",
        "outputId": "360f5d0c-6c19-4655-9c6c-51dee4e347c2"
      },
      "execution_count": null,
      "outputs": [
        {
          "output_type": "stream",
          "name": "stdout",
          "text": [
            "[(0, 0.7801212005029043), (1, 0.7723898729233004), (2, 0.804572689036861), (3, 1.0000000000000007), (4, 1.0000000000000007), (5, 0.7723898729233004), (6, 0.7187639387757857), (7, 0.7606471364810309), (8, 0.704752175450625), (9, 0.7229546404883268), (10, 0.804572689036861), (11, 0.7229546404883268), (12, 0.7723898729233004), (13, 0.7457994533371004), (14, 0.753873388867914), (15, 0.7723898729233004), (16, 0.7723898729233004), (17, 0.7723898729233004), (18, 0.7723898729233004), (19, 0.804572689036861), (20, 0.7723898729233004), (21, 0.753873388867914), (22, 0.804572689036861), (23, 0.804572689036861), (24, 0.7723898729233004), (25, 0.7723898729233004), (26, 0.804572689036861), (27, 0.7801212005029043), (28, 0.804572689036861), (29, 0.7801212005029043), (30, 0.804572689036861), (31, 0.804572689036861), (32, 0.7229546404883268), (33, 0.7801212005029043), (34, 0.804572689036861), (35, 0.7457994533371004), (36, 0.7457994533371004), (37, 1.0000000000000007), (38, 0.7187639387757857), (39, 0.804572689036861), (40, 0.7187639387757857), (41, 1.0000000000000007), (42, 0.7457994533371004), (43, 0.7187639387757857), (44, 0.804572689036861), (45, 0.7358494412129024), (46, 0.7723898729233004), (47, 0.7723898729233004), (48, 0.7723898729233004), (49, 0.7723898729233004), (50, 0.804572689036861), (51, 0.804572689036861), (52, 0.7229546404883268), (53, 0.704752175450625), (54, 0.7457994533371004), (55, 1.0000000000000007), (56, 0.7606471364810309), (57, 0.704752175450625), (58, 0.7358494412129024), (59, 0.7801212005029043), (60, 0.7606471364810309), (61, 0.7801212005029043), (62, 0.753873388867914), (63, 0.7723898729233004), (64, 0.7723898729233004), (65, 0.804572689036861), (66, 0.7606471364810309), (67, 1.0000000000000007), (68, 0.7801212005029043), (69, 0.7457994533371004), (70, 0.7723898729233004), (71, 0.804572689036861), (72, 0.7457994533371004), (73, 0.7801212005029043), (74, 0.7229546404883268), (75, 0.7801212005029043), (76, 0.753873388867914), (77, 0.7801212005029043), (78, 1.0000000000000007), (79, 0.7358494412129024), (80, 0.7187639387757857), (81, 0.7457994533371004), (82, 0.7723898729233004), (83, 0.7606471364810309), (84, 0.7723898729233004), (85, 0.804572689036861), (86, 0.753873388867914), (87, 0.7187639387757857), (88, 1.0000000000000007), (89, 0.7723898729233004), (90, 0.7229546404883268), (91, 0.7723898729233004), (92, 0.7723898729233004), (93, 0.7606471364810309), (94, 0.7187639387757857), (95, 0.704752175450625), (96, 0.7187639387757857), (97, 0.804572689036861), (98, 0.804572689036861), (99, 0.6218603105582519), (100, 0.6971725980325056), (101, 0.5816597265174576), (102, 0.5235257306185563), (103, 0.5459674225953651), (104, 0.6553811180634983), (105, 0.6041638653468294), (106, 0.5093014242327359), (107, 0.5857683444446886), (108, 0.6555756109971018), (109, 0.7081949409640349), (110, 0.6808059720894577), (111, 0.5613541506662764), (112, 0.6177018945664263), (113, 0.642180998845227), (114, 0.5361669586152334), (115, 0.640684887723711), (116, 0.5816933355875208), (117, 0.5816597265174576), (118, 0.6885465629430749), (119, 0.5889333004127323), (120, 0.5903217200818941), (121, 0.6454502128547045), (122, 0.642180998845227), (123, 0.6318424443507962), (124, 0.6159573558536696), (125, 0.5234927594921767), (126, 0.5903217200818941), (127, 0.5680961647328716), (128, 0.5955563983501483), (129, 0.655121923802173), (130, 0.5711801614382108), (131, 0.6354118021909083), (132, 0.6808059720894577), (133, 0.5865662687872593), (134, 0.669083821706763), (135, 0.655121923802173), (136, 0.6159573558536696), (137, 0.5442276702847668), (138, 0.6318424443507962), (139, 0.609121703616475), (140, 0.6283731998837363), (141, 0.5802788818827503), (142, 0.6276500166042578), (143, 0.6177018945664263), (144, 0.6384049954125309), (145, 0.6555756109971018), (146, 0.7081949409640349), (147, 0.6727663985438526), (148, 0.7081949409640349), (149, 0.6260376128073576), (150, 0.641729347617432), (151, 0.6137133731703931), (152, 0.6597472552543912), (153, 0.669083821706763), (154, 0.6125067366507458), (155, 0.6652429897191633), (156, 0.6128099573170598), (157, 0.6555756109971018), (158, 0.5282316864523079), (159, 0.6597472552543912), (160, 0.6354118021909083), (161, 0.6454502128547045), (162, 0.7081949409640349), (163, 0.6041638653468294), (164, 0.6318424443507962), (165, 0.6795592398898933), (166, 0.6134980212967751), (167, 0.6137133731703931), (168, 0.5685222781519979), (169, 0.5802788818827503), (170, 0.5615819191521986), (171, 0.6318005873870042), (172, 0.6652429897191633), (173, 0.6166861548197016), (174, 0.6189186098657634), (175, 0.5283980957203019), (176, 0.6971725980325056), (177, 0.6716098397872673), (178, 0.6612567306621469), (179, 0.6166861548197016), (180, 0.6067350805146317), (181, 0.669083821706763), (182, 0.6553811180634983), (183, 0.6597472552543912), (184, 0.5996615132598597), (185, 0.6047459597531397), (186, 0.5816597265174576), (187, 0.5615819191521986), (188, 0.6311741304822367), (189, 0.5361669586152334), (190, 0.5709571244330177), (191, 0.5628086578321762), (192, 0.6561969919199329), (193, 0.6318005873870042), (194, 0.6454502128547045), (195, 0.6885465629430749), (196, 0.6652429897191633), (197, 0.6612567306621469)]\n"
          ]
        }
      ]
    },
    {
      "cell_type": "code",
      "source": [
        "\n",
        "len(similarity_score)"
      ],
      "metadata": {
        "colab": {
          "base_uri": "https://localhost:8080/"
        },
        "id": "5QHqUlRSA5r0",
        "outputId": "49a90378-7384-4b7b-af2e-a3e7ebeade85"
      },
      "execution_count": null,
      "outputs": [
        {
          "output_type": "execute_result",
          "data": {
            "text/plain": [
              "198"
            ]
          },
          "metadata": {},
          "execution_count": 26
        }
      ]
    },
    {
      "cell_type": "code",
      "source": [
        "\n",
        "# shorting the moving on based on their similarity score\n",
        "\n",
        "sorted_similar_bike = sorted(similarity_score,key = lambda x:x[1],reverse = True)\n",
        "print(sorted_similar_bike)"
      ],
      "metadata": {
        "colab": {
          "base_uri": "https://localhost:8080/"
        },
        "id": "2xr0cjcS69Qa",
        "outputId": "6ca7b869-3a56-4317-e19d-2b443c6496ce"
      },
      "execution_count": null,
      "outputs": [
        {
          "output_type": "stream",
          "name": "stdout",
          "text": [
            "[(3, 1.0000000000000007), (4, 1.0000000000000007), (37, 1.0000000000000007), (41, 1.0000000000000007), (55, 1.0000000000000007), (67, 1.0000000000000007), (78, 1.0000000000000007), (88, 1.0000000000000007), (2, 0.804572689036861), (10, 0.804572689036861), (19, 0.804572689036861), (22, 0.804572689036861), (23, 0.804572689036861), (26, 0.804572689036861), (28, 0.804572689036861), (30, 0.804572689036861), (31, 0.804572689036861), (34, 0.804572689036861), (39, 0.804572689036861), (44, 0.804572689036861), (50, 0.804572689036861), (51, 0.804572689036861), (65, 0.804572689036861), (71, 0.804572689036861), (85, 0.804572689036861), (97, 0.804572689036861), (98, 0.804572689036861), (0, 0.7801212005029043), (27, 0.7801212005029043), (29, 0.7801212005029043), (33, 0.7801212005029043), (59, 0.7801212005029043), (61, 0.7801212005029043), (68, 0.7801212005029043), (73, 0.7801212005029043), (75, 0.7801212005029043), (77, 0.7801212005029043), (1, 0.7723898729233004), (5, 0.7723898729233004), (12, 0.7723898729233004), (15, 0.7723898729233004), (16, 0.7723898729233004), (17, 0.7723898729233004), (18, 0.7723898729233004), (20, 0.7723898729233004), (24, 0.7723898729233004), (25, 0.7723898729233004), (46, 0.7723898729233004), (47, 0.7723898729233004), (48, 0.7723898729233004), (49, 0.7723898729233004), (63, 0.7723898729233004), (64, 0.7723898729233004), (70, 0.7723898729233004), (82, 0.7723898729233004), (84, 0.7723898729233004), (89, 0.7723898729233004), (91, 0.7723898729233004), (92, 0.7723898729233004), (7, 0.7606471364810309), (56, 0.7606471364810309), (60, 0.7606471364810309), (66, 0.7606471364810309), (83, 0.7606471364810309), (93, 0.7606471364810309), (14, 0.753873388867914), (21, 0.753873388867914), (62, 0.753873388867914), (76, 0.753873388867914), (86, 0.753873388867914), (13, 0.7457994533371004), (35, 0.7457994533371004), (36, 0.7457994533371004), (42, 0.7457994533371004), (54, 0.7457994533371004), (69, 0.7457994533371004), (72, 0.7457994533371004), (81, 0.7457994533371004), (45, 0.7358494412129024), (58, 0.7358494412129024), (79, 0.7358494412129024), (9, 0.7229546404883268), (11, 0.7229546404883268), (32, 0.7229546404883268), (52, 0.7229546404883268), (74, 0.7229546404883268), (90, 0.7229546404883268), (6, 0.7187639387757857), (38, 0.7187639387757857), (40, 0.7187639387757857), (43, 0.7187639387757857), (80, 0.7187639387757857), (87, 0.7187639387757857), (94, 0.7187639387757857), (96, 0.7187639387757857), (109, 0.7081949409640349), (146, 0.7081949409640349), (148, 0.7081949409640349), (162, 0.7081949409640349), (8, 0.704752175450625), (53, 0.704752175450625), (57, 0.704752175450625), (95, 0.704752175450625), (100, 0.6971725980325056), (176, 0.6971725980325056), (118, 0.6885465629430749), (195, 0.6885465629430749), (110, 0.6808059720894577), (132, 0.6808059720894577), (165, 0.6795592398898933), (147, 0.6727663985438526), (177, 0.6716098397872673), (134, 0.669083821706763), (153, 0.669083821706763), (181, 0.669083821706763), (155, 0.6652429897191633), (172, 0.6652429897191633), (196, 0.6652429897191633), (178, 0.6612567306621469), (197, 0.6612567306621469), (152, 0.6597472552543912), (159, 0.6597472552543912), (183, 0.6597472552543912), (192, 0.6561969919199329), (108, 0.6555756109971018), (145, 0.6555756109971018), (157, 0.6555756109971018), (104, 0.6553811180634983), (182, 0.6553811180634983), (129, 0.655121923802173), (135, 0.655121923802173), (121, 0.6454502128547045), (161, 0.6454502128547045), (194, 0.6454502128547045), (113, 0.642180998845227), (122, 0.642180998845227), (150, 0.641729347617432), (115, 0.640684887723711), (144, 0.6384049954125309), (131, 0.6354118021909083), (160, 0.6354118021909083), (123, 0.6318424443507962), (138, 0.6318424443507962), (164, 0.6318424443507962), (171, 0.6318005873870042), (193, 0.6318005873870042), (188, 0.6311741304822367), (140, 0.6283731998837363), (142, 0.6276500166042578), (149, 0.6260376128073576), (99, 0.6218603105582519), (174, 0.6189186098657634), (112, 0.6177018945664263), (143, 0.6177018945664263), (173, 0.6166861548197016), (179, 0.6166861548197016), (124, 0.6159573558536696), (136, 0.6159573558536696), (151, 0.6137133731703931), (167, 0.6137133731703931), (166, 0.6134980212967751), (156, 0.6128099573170598), (154, 0.6125067366507458), (139, 0.609121703616475), (180, 0.6067350805146317), (185, 0.6047459597531397), (105, 0.6041638653468294), (163, 0.6041638653468294), (184, 0.5996615132598597), (128, 0.5955563983501483), (120, 0.5903217200818941), (126, 0.5903217200818941), (119, 0.5889333004127323), (133, 0.5865662687872593), (107, 0.5857683444446886), (116, 0.5816933355875208), (101, 0.5816597265174576), (117, 0.5816597265174576), (186, 0.5816597265174576), (141, 0.5802788818827503), (169, 0.5802788818827503), (130, 0.5711801614382108), (190, 0.5709571244330177), (168, 0.5685222781519979), (127, 0.5680961647328716), (191, 0.5628086578321762), (170, 0.5615819191521986), (187, 0.5615819191521986), (111, 0.5613541506662764), (103, 0.5459674225953651), (137, 0.5442276702847668), (114, 0.5361669586152334), (189, 0.5361669586152334), (175, 0.5283980957203019), (158, 0.5282316864523079), (102, 0.5235257306185563), (125, 0.5234927594921767), (106, 0.5093014242327359)]\n"
          ]
        }
      ]
    },
    {
      "cell_type": "code",
      "source": [
        "\n",
        "# print the name of similar movies based on index\n",
        "\n",
        "print('bike suggested for you: \\n')\n",
        "i=1\n",
        "for bikes in sorted_similar_bike:\n",
        "  index = bikes[0]\n",
        "  name_from_index = bike_data[bike_data.index == index]['name'].values[0]\n",
        "  if(i<11):\n",
        "    print(i,'.', name_from_index)\n",
        "    i+=1"
      ],
      "metadata": {
        "colab": {
          "base_uri": "https://localhost:8080/"
        },
        "id": "kjSiN4B26NKJ",
        "outputId": "4801302b-fa73-4bf9-8fda-18121f3d92d7"
      },
      "execution_count": null,
      "outputs": [
        {
          "output_type": "stream",
          "name": "stdout",
          "text": [
            "bike suggested for you: \n",
            "\n",
            "1 . Toyota\n",
            "2 . Toyota\n",
            "3 . Toyota\n",
            "4 . Toyota\n",
            "5 . Toyota\n",
            "6 . Toyota\n",
            "7 . Toyota\n",
            "8 . Toyota\n",
            "9 . Hyundai\n",
            "10 . Hyundai\n"
          ]
        }
      ]
    },
    {
      "cell_type": "markdown",
      "source": [
        "All in one"
      ],
      "metadata": {
        "id": "6r4vUuLfBYP7"
      }
    },
    {
      "cell_type": "code",
      "source": [
        "bike_name = input('Enter bike name: ')\n",
        "\n",
        "list_of_all_name = bike_data['name'].tolist()\n",
        "\n",
        "find_close_match = difflib.get_close_matches(bike_name,list_of_all_name)\n",
        "\n",
        "close_match = find_close_match[0]\n",
        "\n",
        "name_of_the_bike = bike_data[bike_data.name == close_match]['index'].values[0]\n",
        "\n",
        "similarity_score = list(enumerate(similarity[name_of_the_bike]))\n",
        "\n",
        "sorted_similar_bike = sorted(similarity_score,key = lambda x:x[1],reverse = True)\n",
        "\n",
        "print('bike suggested for you: \\n')\n",
        "i=1\n",
        "for bike in sorted_similar_bike:\n",
        "  index = bike[0]\n",
        "  name_from_index = bike_data[bike_data.index == index]['name'].values[0]\n",
        "  if(i<11):\n",
        "    print(i,'.', name_from_index)\n",
        "    i+=1"
      ],
      "metadata": {
        "id": "YLNq3yGTBWqU",
        "colab": {
          "base_uri": "https://localhost:8080/"
        },
        "outputId": "cf16203c-6bba-49f6-f6d3-7c7fce07f029"
      },
      "execution_count": null,
      "outputs": [
        {
          "output_type": "stream",
          "name": "stdout",
          "text": [
            "Enter bike name: Bajaj Pulsar 220S\n",
            "bike suggested for you: \n",
            "\n",
            "1 . Bajaj Pulsar 220S\n",
            "2 . Bajaj Pulsar 150\n",
            "3 . Bajaj Pulsar 150\n",
            "4 . Bajaj Pulsar 150\n",
            "5 . Bajaj Pulsar AS200\n",
            "6 . Hyundai\n",
            "7 . Hyundai\n",
            "8 . Hyundai\n",
            "9 . Hyundai\n",
            "10 . Hyundai\n"
          ]
        }
      ]
    }
  ]
}